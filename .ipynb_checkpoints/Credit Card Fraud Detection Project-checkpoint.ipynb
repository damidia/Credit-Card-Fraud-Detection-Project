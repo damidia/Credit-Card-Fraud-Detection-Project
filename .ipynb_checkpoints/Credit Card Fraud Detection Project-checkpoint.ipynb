{
 "cells": [
  {
   "cell_type": "markdown",
   "id": "fed450ed",
   "metadata": {},
   "source": [
    "# Credit Card Fraud Detection Project"
   ]
  },
  {
   "cell_type": "markdown",
   "id": "1ca80260",
   "metadata": {},
   "source": [
    "## Author: Akhil Damidi"
   ]
  },
  {
   "cell_type": "markdown",
   "id": "a60e04b9",
   "metadata": {},
   "source": [
    "## Project Introduction: Credit Card Fraud Detection"
   ]
  },
  {
   "cell_type": "markdown",
   "id": "46c5a126",
   "metadata": {},
   "source": [
    "A recent trip to Washington D.C. sparked my interest in understanding credit card fraud detection. My family and I were exploring the city's historical landmarks using electric scooters and bikes from various providers. After just an hour of riding, all our vehicles abruptly stopped, and we discovered that our credit card transactions had been flagged as fraudulent. While this was a false positive, it was understandable: we were more than 2,700 miles from home, using a service we had never used before, and making multiple simultaneous transactions. This experience highlighted the complexities credit card companies face in distinguishing between legitimate and fraudulent activities."
   ]
  },
  {
   "cell_type": "markdown",
   "id": "8ce17aea",
   "metadata": {},
   "source": [
    "This project was driven by my desire to answer the following questions: \n",
    "- What key data points do credit card companies rely on to determine whether a transaction is fraudulent?\n",
    "- How can fraud detection models be improved to reduce false positive while maintaining security?\n",
    "- What additional data or techniques could enhance the accuracy and speed of fraud detection?\n",
    "- Should companies prioritize reducing false positives, or is there a better balance that can be struck between security and user experience?"
   ]
  },
  {
   "cell_type": "markdown",
   "id": "d84dfb21",
   "metadata": {},
   "source": [
    "**Through this project, I aim to explore these questions and contribute to the development of more accurate and user-friendly fraud detection systems.**"
   ]
  },
  {
   "cell_type": "markdown",
   "id": "c4156a02",
   "metadata": {},
   "source": [
    "## About Dataset"
   ]
  },
  {
   "cell_type": "markdown",
   "id": "f0c22b5c",
   "metadata": {},
   "source": [
    "This project uses the `Credit Card Transactions Fraud Detection Dataset` which is a simulated credit card transaction dataset containing legitimate and fraud tansactions from the **duration 1st Jan 2019 - 31st Dec 2020**. It covers credit cards of **1000 customers doing transactions with a pool of 800 merchants**."
   ]
  },
  {
   "cell_type": "markdown",
   "id": "d43c5b71",
   "metadata": {},
   "source": [
    "Key Features:\n",
    "- **Customer Information**: These features can be used to understand customer behavior and detect anomolies.\n",
    "    - `cc_num`: Credit Card Number of Customer\n",
    "    - `first`: First Name of Credit Card Holder\n",
    "    - `last`: Last Name of Credit Card Holder\n",
    "    - `gender`: Gender of Credit Card Holder\n",
    "    - `street`: Street Address of Credit Card Holder\n",
    "    - `city`: City of Credit Card Holder\n",
    "    - `state`: State of Credit Card Holder\n",
    "    - `zip`: Zip of Credit Card Holder\n",
    "    - `lat`: Latitude Location of Credit Card Holder\n",
    "    - `long`: Longitude Location of Credit Card Holder\n",
    "    - `dob`: Date of Birth of Credit Card Holder\n",
    "    - `job`: Job of Credit Card Holder\n",
    "    - `city_pop`: Credit Card Holder's City Population\n",
    "- **Transaction Details**: These features are essential for identifying patterns of legitimate versus fraudulent transactions.\n",
    "    - `trans_date_trans_time`: Transaction DateTime\n",
    "    - `merchant`: Merchant Name\n",
    "    - `category`: Category of Merchant\n",
    "    - `amt`: Amount of Transaction\n",
    "    - `trans_num`: Transaction Number\n",
    "    - `unix_time`: Unix Time of transaction\n",
    "    - `merch_lat`: Latitude Location of Merchant\n",
    "    - `merch_long`: Longitude Location of Merchant\n",
    "- **Target Variable**: Serves as the target variable.\n",
    "    - `is_fraud`: Fraud Flag <- Target Class\n",
    "    "
   ]
  },
  {
   "cell_type": "markdown",
   "id": "ac67904d",
   "metadata": {},
   "source": [
    "Data Source: This dataset was generatered using Sparkover Data Generation | Github tool created by Brandon Harris. THis simulation was run for the during - 1 Jan 2019 to 31 Dec 2020. These files were combined and converted to standard format. Here is the link to the dataset on Kaggle: https://www.kaggle.com/datasets/kartik2112/fraud-detection?select=fraudTrain.csv"
   ]
  },
  {
   "cell_type": "markdown",
   "id": "2745d328",
   "metadata": {},
   "source": [
    "## Data Import and Initial Exploration"
   ]
  },
  {
   "cell_type": "markdown",
   "id": "aba97e60",
   "metadata": {},
   "source": [
    "### Import Necessary Libraries:\n",
    "- pandas: Used for working with data sets. It has functions for analyzing, cleaning, exploring, and manipulating data. It also offers data structures and operations for manipulating tables and time series. \n",
    "\n",
    "- numpy: Library used for processing n-dimensional arrays and numerical computing. Base for libraries like Pandas, Scikit-learn, and SciPy. It provides access to multidimensional arrays and routines that enable users to perform various operations on arrays. \n",
    "    - Example:\n",
    "        - Mathematical functions\n",
    "        - Array creation\n",
    "        - Array manipulation\n",
    "        - Item-wise computations\n",
    "       \n",
    "- matplotlib.pyplot: Library used for creating static, animated, and interactive visualizations in Python.\n",
    "\n",
    "- seaborn: Library used for data visualization and statisitical graphics. It's built on top of the Matplotlib library and works with Pandas dataframes."
   ]
  },
  {
   "cell_type": "code",
   "execution_count": 1,
   "id": "b4aac598",
   "metadata": {},
   "outputs": [],
   "source": [
    "# Import libraries\n",
    "import pandas as pd\n",
    "import numpy as np\n",
    "import matplotlib.pyplot as plt\n",
    "import seaborn as sns\n",
    "from sklearn.model_selection import train_test_split"
   ]
  },
  {
   "cell_type": "markdown",
   "id": "f98a9ac5",
   "metadata": {},
   "source": [
    "### Load Dataset:"
   ]
  },
  {
   "cell_type": "markdown",
   "id": "d92ed2c5",
   "metadata": {},
   "source": [
    "- Load the dataset into Pandas DataFrame"
   ]
  },
  {
   "cell_type": "code",
   "execution_count": 2,
   "id": "5f5deadf",
   "metadata": {},
   "outputs": [],
   "source": [
    "# Load the full dataset\n",
    "df_full = pd.read_csv('data/fraudTrain.csv', index_col=0)"
   ]
  },
  {
   "cell_type": "markdown",
   "id": "b53d475c",
   "metadata": {},
   "source": [
    "### Random Sample:"
   ]
  },
  {
   "cell_type": "markdown",
   "id": "a9b0d76c",
   "metadata": {},
   "source": [
    "- Due to the large dataset size, randomly sample a subset of the data for quicker analysis"
   ]
  },
  {
   "cell_type": "code",
   "execution_count": 3,
   "id": "5e2078b9",
   "metadata": {},
   "outputs": [],
   "source": [
    "# Randomly sample 10% of the dataset for quicker analysis\n",
    "df = df_full.sample(frac=0.025, random_state=42)"
   ]
  },
  {
   "cell_type": "markdown",
   "id": "94d09aa7",
   "metadata": {},
   "source": [
    "### Basic Exploratory Data Analysis (EDA):"
   ]
  },
  {
   "cell_type": "markdown",
   "id": "95ba46da",
   "metadata": {},
   "source": [
    "- Conduct basic exploratory data analysis (EDA) to understand the data structure and content."
   ]
  },
  {
   "cell_type": "code",
   "execution_count": 4,
   "id": "5badcc5d",
   "metadata": {},
   "outputs": [
    {
     "name": "stdout",
     "output_type": "stream",
     "text": [
      "<class 'pandas.core.frame.DataFrame'>\n",
      "Index: 32417 entries, 1045211 to 538338\n",
      "Data columns (total 22 columns):\n",
      " #   Column                 Non-Null Count  Dtype  \n",
      "---  ------                 --------------  -----  \n",
      " 0   trans_date_trans_time  32417 non-null  object \n",
      " 1   cc_num                 32417 non-null  int64  \n",
      " 2   merchant               32417 non-null  object \n",
      " 3   category               32417 non-null  object \n",
      " 4   amt                    32417 non-null  float64\n",
      " 5   first                  32417 non-null  object \n",
      " 6   last                   32417 non-null  object \n",
      " 7   gender                 32417 non-null  object \n",
      " 8   street                 32417 non-null  object \n",
      " 9   city                   32417 non-null  object \n",
      " 10  state                  32417 non-null  object \n",
      " 11  zip                    32417 non-null  int64  \n",
      " 12  lat                    32417 non-null  float64\n",
      " 13  long                   32417 non-null  float64\n",
      " 14  city_pop               32417 non-null  int64  \n",
      " 15  job                    32417 non-null  object \n",
      " 16  dob                    32417 non-null  object \n",
      " 17  trans_num              32417 non-null  object \n",
      " 18  unix_time              32417 non-null  int64  \n",
      " 19  merch_lat              32417 non-null  float64\n",
      " 20  merch_long             32417 non-null  float64\n",
      " 21  is_fraud               32417 non-null  int64  \n",
      "dtypes: float64(5), int64(5), object(12)\n",
      "memory usage: 5.7+ MB\n"
     ]
    }
   ],
   "source": [
    "# Display basic information about the dataset\n",
    "df.info()"
   ]
  },
  {
   "cell_type": "code",
   "execution_count": 5,
   "id": "48d0f648",
   "metadata": {},
   "outputs": [
    {
     "data": {
      "text/html": [
       "<div>\n",
       "<style scoped>\n",
       "    .dataframe tbody tr th:only-of-type {\n",
       "        vertical-align: middle;\n",
       "    }\n",
       "\n",
       "    .dataframe tbody tr th {\n",
       "        vertical-align: top;\n",
       "    }\n",
       "\n",
       "    .dataframe thead th {\n",
       "        text-align: right;\n",
       "    }\n",
       "</style>\n",
       "<table border=\"1\" class=\"dataframe\">\n",
       "  <thead>\n",
       "    <tr style=\"text-align: right;\">\n",
       "      <th></th>\n",
       "      <th>cc_num</th>\n",
       "      <th>amt</th>\n",
       "      <th>zip</th>\n",
       "      <th>lat</th>\n",
       "      <th>long</th>\n",
       "      <th>city_pop</th>\n",
       "      <th>unix_time</th>\n",
       "      <th>merch_lat</th>\n",
       "      <th>merch_long</th>\n",
       "      <th>is_fraud</th>\n",
       "    </tr>\n",
       "  </thead>\n",
       "  <tbody>\n",
       "    <tr>\n",
       "      <th>count</th>\n",
       "      <td>3.241700e+04</td>\n",
       "      <td>32417.000000</td>\n",
       "      <td>32417.000000</td>\n",
       "      <td>32417.000000</td>\n",
       "      <td>32417.000000</td>\n",
       "      <td>3.241700e+04</td>\n",
       "      <td>3.241700e+04</td>\n",
       "      <td>32417.000000</td>\n",
       "      <td>32417.000000</td>\n",
       "      <td>32417.000000</td>\n",
       "    </tr>\n",
       "    <tr>\n",
       "      <th>mean</th>\n",
       "      <td>4.089727e+17</td>\n",
       "      <td>69.673836</td>\n",
       "      <td>48759.552858</td>\n",
       "      <td>38.528824</td>\n",
       "      <td>-90.218956</td>\n",
       "      <td>8.803563e+04</td>\n",
       "      <td>1.349321e+09</td>\n",
       "      <td>38.527089</td>\n",
       "      <td>-90.222550</td>\n",
       "      <td>0.005769</td>\n",
       "    </tr>\n",
       "    <tr>\n",
       "      <th>std</th>\n",
       "      <td>1.297300e+18</td>\n",
       "      <td>133.293666</td>\n",
       "      <td>26968.549796</td>\n",
       "      <td>5.059883</td>\n",
       "      <td>13.741389</td>\n",
       "      <td>3.048586e+05</td>\n",
       "      <td>1.281602e+07</td>\n",
       "      <td>5.090753</td>\n",
       "      <td>13.754183</td>\n",
       "      <td>0.075733</td>\n",
       "    </tr>\n",
       "    <tr>\n",
       "      <th>min</th>\n",
       "      <td>6.041621e+10</td>\n",
       "      <td>1.000000</td>\n",
       "      <td>1257.000000</td>\n",
       "      <td>20.027100</td>\n",
       "      <td>-165.672300</td>\n",
       "      <td>2.300000e+01</td>\n",
       "      <td>1.325377e+09</td>\n",
       "      <td>19.031242</td>\n",
       "      <td>-166.558499</td>\n",
       "      <td>0.000000</td>\n",
       "    </tr>\n",
       "    <tr>\n",
       "      <th>25%</th>\n",
       "      <td>1.800312e+14</td>\n",
       "      <td>9.610000</td>\n",
       "      <td>26041.000000</td>\n",
       "      <td>34.620500</td>\n",
       "      <td>-96.809400</td>\n",
       "      <td>7.410000e+02</td>\n",
       "      <td>1.338878e+09</td>\n",
       "      <td>34.721047</td>\n",
       "      <td>-96.976396</td>\n",
       "      <td>0.000000</td>\n",
       "    </tr>\n",
       "    <tr>\n",
       "      <th>50%</th>\n",
       "      <td>3.518235e+15</td>\n",
       "      <td>47.570000</td>\n",
       "      <td>48154.000000</td>\n",
       "      <td>39.354300</td>\n",
       "      <td>-87.476900</td>\n",
       "      <td>2.443000e+03</td>\n",
       "      <td>1.349361e+09</td>\n",
       "      <td>39.361907</td>\n",
       "      <td>-87.413369</td>\n",
       "      <td>0.000000</td>\n",
       "    </tr>\n",
       "    <tr>\n",
       "      <th>75%</th>\n",
       "      <td>4.642255e+15</td>\n",
       "      <td>82.800000</td>\n",
       "      <td>72042.000000</td>\n",
       "      <td>41.948800</td>\n",
       "      <td>-80.158000</td>\n",
       "      <td>2.032800e+04</td>\n",
       "      <td>1.359556e+09</td>\n",
       "      <td>41.963557</td>\n",
       "      <td>-80.229710</td>\n",
       "      <td>0.000000</td>\n",
       "    </tr>\n",
       "    <tr>\n",
       "      <th>max</th>\n",
       "      <td>4.992346e+18</td>\n",
       "      <td>5470.670000</td>\n",
       "      <td>99783.000000</td>\n",
       "      <td>65.689900</td>\n",
       "      <td>-67.950300</td>\n",
       "      <td>2.906700e+06</td>\n",
       "      <td>1.371817e+09</td>\n",
       "      <td>66.105546</td>\n",
       "      <td>-66.979887</td>\n",
       "      <td>1.000000</td>\n",
       "    </tr>\n",
       "  </tbody>\n",
       "</table>\n",
       "</div>"
      ],
      "text/plain": [
       "             cc_num           amt           zip           lat          long  \\\n",
       "count  3.241700e+04  32417.000000  32417.000000  32417.000000  32417.000000   \n",
       "mean   4.089727e+17     69.673836  48759.552858     38.528824    -90.218956   \n",
       "std    1.297300e+18    133.293666  26968.549796      5.059883     13.741389   \n",
       "min    6.041621e+10      1.000000   1257.000000     20.027100   -165.672300   \n",
       "25%    1.800312e+14      9.610000  26041.000000     34.620500    -96.809400   \n",
       "50%    3.518235e+15     47.570000  48154.000000     39.354300    -87.476900   \n",
       "75%    4.642255e+15     82.800000  72042.000000     41.948800    -80.158000   \n",
       "max    4.992346e+18   5470.670000  99783.000000     65.689900    -67.950300   \n",
       "\n",
       "           city_pop     unix_time     merch_lat    merch_long      is_fraud  \n",
       "count  3.241700e+04  3.241700e+04  32417.000000  32417.000000  32417.000000  \n",
       "mean   8.803563e+04  1.349321e+09     38.527089    -90.222550      0.005769  \n",
       "std    3.048586e+05  1.281602e+07      5.090753     13.754183      0.075733  \n",
       "min    2.300000e+01  1.325377e+09     19.031242   -166.558499      0.000000  \n",
       "25%    7.410000e+02  1.338878e+09     34.721047    -96.976396      0.000000  \n",
       "50%    2.443000e+03  1.349361e+09     39.361907    -87.413369      0.000000  \n",
       "75%    2.032800e+04  1.359556e+09     41.963557    -80.229710      0.000000  \n",
       "max    2.906700e+06  1.371817e+09     66.105546    -66.979887      1.000000  "
      ]
     },
     "execution_count": 5,
     "metadata": {},
     "output_type": "execute_result"
    }
   ],
   "source": [
    "df.describe()"
   ]
  },
  {
   "cell_type": "code",
   "execution_count": 6,
   "id": "897d3dee",
   "metadata": {},
   "outputs": [
    {
     "data": {
      "text/html": [
       "<div>\n",
       "<style scoped>\n",
       "    .dataframe tbody tr th:only-of-type {\n",
       "        vertical-align: middle;\n",
       "    }\n",
       "\n",
       "    .dataframe tbody tr th {\n",
       "        vertical-align: top;\n",
       "    }\n",
       "\n",
       "    .dataframe thead th {\n",
       "        text-align: right;\n",
       "    }\n",
       "</style>\n",
       "<table border=\"1\" class=\"dataframe\">\n",
       "  <thead>\n",
       "    <tr style=\"text-align: right;\">\n",
       "      <th></th>\n",
       "      <th>trans_date_trans_time</th>\n",
       "      <th>cc_num</th>\n",
       "      <th>merchant</th>\n",
       "      <th>category</th>\n",
       "      <th>amt</th>\n",
       "      <th>first</th>\n",
       "      <th>last</th>\n",
       "      <th>gender</th>\n",
       "      <th>street</th>\n",
       "      <th>city</th>\n",
       "      <th>...</th>\n",
       "      <th>lat</th>\n",
       "      <th>long</th>\n",
       "      <th>city_pop</th>\n",
       "      <th>job</th>\n",
       "      <th>dob</th>\n",
       "      <th>trans_num</th>\n",
       "      <th>unix_time</th>\n",
       "      <th>merch_lat</th>\n",
       "      <th>merch_long</th>\n",
       "      <th>is_fraud</th>\n",
       "    </tr>\n",
       "  </thead>\n",
       "  <tbody>\n",
       "    <tr>\n",
       "      <th>1045211</th>\n",
       "      <td>2020-03-09 15:09:26</td>\n",
       "      <td>577588686219</td>\n",
       "      <td>fraud_Towne LLC</td>\n",
       "      <td>misc_pos</td>\n",
       "      <td>194.51</td>\n",
       "      <td>James</td>\n",
       "      <td>Strickland</td>\n",
       "      <td>M</td>\n",
       "      <td>25454 Leonard Lake</td>\n",
       "      <td>Spring Church</td>\n",
       "      <td>...</td>\n",
       "      <td>40.6153</td>\n",
       "      <td>-79.4545</td>\n",
       "      <td>972</td>\n",
       "      <td>Public relations account executive</td>\n",
       "      <td>1997-10-23</td>\n",
       "      <td>fff87d4340ef756a592eac652493cf6b</td>\n",
       "      <td>1362841766</td>\n",
       "      <td>40.420453</td>\n",
       "      <td>-78.865012</td>\n",
       "      <td>0</td>\n",
       "    </tr>\n",
       "    <tr>\n",
       "      <th>547406</th>\n",
       "      <td>2019-08-22 15:49:01</td>\n",
       "      <td>30376238035123</td>\n",
       "      <td>fraud_Friesen Ltd</td>\n",
       "      <td>health_fitness</td>\n",
       "      <td>52.32</td>\n",
       "      <td>Cynthia</td>\n",
       "      <td>Davis</td>\n",
       "      <td>F</td>\n",
       "      <td>7177 Steven Forges</td>\n",
       "      <td>Sixes</td>\n",
       "      <td>...</td>\n",
       "      <td>42.8250</td>\n",
       "      <td>-124.4409</td>\n",
       "      <td>217</td>\n",
       "      <td>Retail merchandiser</td>\n",
       "      <td>1928-10-01</td>\n",
       "      <td>d0ad335af432f35578eea01d639b3621</td>\n",
       "      <td>1345650541</td>\n",
       "      <td>42.758860</td>\n",
       "      <td>-123.636337</td>\n",
       "      <td>0</td>\n",
       "    </tr>\n",
       "    <tr>\n",
       "      <th>110142</th>\n",
       "      <td>2019-03-04 01:34:16</td>\n",
       "      <td>4658490815480264</td>\n",
       "      <td>fraud_Mohr Inc</td>\n",
       "      <td>shopping_pos</td>\n",
       "      <td>6.53</td>\n",
       "      <td>Tara</td>\n",
       "      <td>Richards</td>\n",
       "      <td>F</td>\n",
       "      <td>4879 Cristina Station</td>\n",
       "      <td>Keisterville</td>\n",
       "      <td>...</td>\n",
       "      <td>39.9636</td>\n",
       "      <td>-79.7853</td>\n",
       "      <td>184</td>\n",
       "      <td>Systems developer</td>\n",
       "      <td>1945-11-04</td>\n",
       "      <td>87f26e3ea33f4ff4c7a8bad2c7f48686</td>\n",
       "      <td>1330824856</td>\n",
       "      <td>40.475159</td>\n",
       "      <td>-78.898190</td>\n",
       "      <td>0</td>\n",
       "    </tr>\n",
       "    <tr>\n",
       "      <th>1285953</th>\n",
       "      <td>2020-06-16 20:04:38</td>\n",
       "      <td>3514897282719543</td>\n",
       "      <td>fraud_Gaylord-Powlowski</td>\n",
       "      <td>home</td>\n",
       "      <td>7.33</td>\n",
       "      <td>Steven</td>\n",
       "      <td>Faulkner</td>\n",
       "      <td>M</td>\n",
       "      <td>841 Cheryl Centers Suite 115</td>\n",
       "      <td>Farmington</td>\n",
       "      <td>...</td>\n",
       "      <td>42.9580</td>\n",
       "      <td>-77.3083</td>\n",
       "      <td>10717</td>\n",
       "      <td>Cytogeneticist</td>\n",
       "      <td>1952-10-13</td>\n",
       "      <td>9c34015321c0fa2ae6fd20f9359d1d3e</td>\n",
       "      <td>1371413078</td>\n",
       "      <td>43.767506</td>\n",
       "      <td>-76.542384</td>\n",
       "      <td>0</td>\n",
       "    </tr>\n",
       "    <tr>\n",
       "      <th>271705</th>\n",
       "      <td>2019-05-14 05:54:48</td>\n",
       "      <td>6011381817520024</td>\n",
       "      <td>fraud_Christiansen, Goyette and Schamberger</td>\n",
       "      <td>gas_transport</td>\n",
       "      <td>64.29</td>\n",
       "      <td>Kristen</td>\n",
       "      <td>Allen</td>\n",
       "      <td>F</td>\n",
       "      <td>8619 Lisa Manors Apt. 871</td>\n",
       "      <td>Lagrange</td>\n",
       "      <td>...</td>\n",
       "      <td>41.6423</td>\n",
       "      <td>-104.1974</td>\n",
       "      <td>635</td>\n",
       "      <td>Product/process development scientist</td>\n",
       "      <td>1973-07-13</td>\n",
       "      <td>198437c05676f485e9be04449c664475</td>\n",
       "      <td>1336974888</td>\n",
       "      <td>41.040392</td>\n",
       "      <td>-104.092324</td>\n",
       "      <td>0</td>\n",
       "    </tr>\n",
       "  </tbody>\n",
       "</table>\n",
       "<p>5 rows × 22 columns</p>\n",
       "</div>"
      ],
      "text/plain": [
       "        trans_date_trans_time            cc_num  \\\n",
       "1045211   2020-03-09 15:09:26      577588686219   \n",
       "547406    2019-08-22 15:49:01    30376238035123   \n",
       "110142    2019-03-04 01:34:16  4658490815480264   \n",
       "1285953   2020-06-16 20:04:38  3514897282719543   \n",
       "271705    2019-05-14 05:54:48  6011381817520024   \n",
       "\n",
       "                                            merchant        category     amt  \\\n",
       "1045211                              fraud_Towne LLC        misc_pos  194.51   \n",
       "547406                             fraud_Friesen Ltd  health_fitness   52.32   \n",
       "110142                                fraud_Mohr Inc    shopping_pos    6.53   \n",
       "1285953                      fraud_Gaylord-Powlowski            home    7.33   \n",
       "271705   fraud_Christiansen, Goyette and Schamberger   gas_transport   64.29   \n",
       "\n",
       "           first        last gender                        street  \\\n",
       "1045211    James  Strickland      M            25454 Leonard Lake   \n",
       "547406   Cynthia       Davis      F            7177 Steven Forges   \n",
       "110142      Tara    Richards      F         4879 Cristina Station   \n",
       "1285953   Steven    Faulkner      M  841 Cheryl Centers Suite 115   \n",
       "271705   Kristen       Allen      F     8619 Lisa Manors Apt. 871   \n",
       "\n",
       "                  city  ...      lat      long  city_pop  \\\n",
       "1045211  Spring Church  ...  40.6153  -79.4545       972   \n",
       "547406           Sixes  ...  42.8250 -124.4409       217   \n",
       "110142    Keisterville  ...  39.9636  -79.7853       184   \n",
       "1285953     Farmington  ...  42.9580  -77.3083     10717   \n",
       "271705        Lagrange  ...  41.6423 -104.1974       635   \n",
       "\n",
       "                                           job         dob  \\\n",
       "1045211     Public relations account executive  1997-10-23   \n",
       "547406                     Retail merchandiser  1928-10-01   \n",
       "110142                       Systems developer  1945-11-04   \n",
       "1285953                         Cytogeneticist  1952-10-13   \n",
       "271705   Product/process development scientist  1973-07-13   \n",
       "\n",
       "                                trans_num   unix_time  merch_lat  merch_long  \\\n",
       "1045211  fff87d4340ef756a592eac652493cf6b  1362841766  40.420453  -78.865012   \n",
       "547406   d0ad335af432f35578eea01d639b3621  1345650541  42.758860 -123.636337   \n",
       "110142   87f26e3ea33f4ff4c7a8bad2c7f48686  1330824856  40.475159  -78.898190   \n",
       "1285953  9c34015321c0fa2ae6fd20f9359d1d3e  1371413078  43.767506  -76.542384   \n",
       "271705   198437c05676f485e9be04449c664475  1336974888  41.040392 -104.092324   \n",
       "\n",
       "         is_fraud  \n",
       "1045211         0  \n",
       "547406          0  \n",
       "110142          0  \n",
       "1285953         0  \n",
       "271705          0  \n",
       "\n",
       "[5 rows x 22 columns]"
      ]
     },
     "execution_count": 6,
     "metadata": {},
     "output_type": "execute_result"
    }
   ],
   "source": [
    "# Display first few rows of the dataset\n",
    "df.head()"
   ]
  },
  {
   "cell_type": "markdown",
   "id": "bc0855c3",
   "metadata": {},
   "source": [
    "## Feature Engineering"
   ]
  },
  {
   "cell_type": "markdown",
   "id": "4985a74d",
   "metadata": {},
   "source": [
    "- Create new features that may help the model better distinguish between fraudulent and legitimate transactions."
   ]
  },
  {
   "cell_type": "markdown",
   "id": "bbaedaba",
   "metadata": {},
   "source": [
    "### Time-Based Features:"
   ]
  },
  {
   "cell_type": "markdown",
   "id": "f0c1346b",
   "metadata": {},
   "source": [
    "- Extract features like **hour_of_day** , **day_of_week**, etc."
   ]
  },
  {
   "cell_type": "code",
   "execution_count": 7,
   "id": "83f655c0",
   "metadata": {},
   "outputs": [
    {
     "data": {
      "text/html": [
       "<div>\n",
       "<style scoped>\n",
       "    .dataframe tbody tr th:only-of-type {\n",
       "        vertical-align: middle;\n",
       "    }\n",
       "\n",
       "    .dataframe tbody tr th {\n",
       "        vertical-align: top;\n",
       "    }\n",
       "\n",
       "    .dataframe thead th {\n",
       "        text-align: right;\n",
       "    }\n",
       "</style>\n",
       "<table border=\"1\" class=\"dataframe\">\n",
       "  <thead>\n",
       "    <tr style=\"text-align: right;\">\n",
       "      <th></th>\n",
       "      <th>cc_num</th>\n",
       "      <th>merchant</th>\n",
       "      <th>category</th>\n",
       "      <th>amt</th>\n",
       "      <th>first</th>\n",
       "      <th>last</th>\n",
       "      <th>gender</th>\n",
       "      <th>street</th>\n",
       "      <th>city</th>\n",
       "      <th>state</th>\n",
       "      <th>...</th>\n",
       "      <th>long</th>\n",
       "      <th>city_pop</th>\n",
       "      <th>job</th>\n",
       "      <th>dob</th>\n",
       "      <th>trans_num</th>\n",
       "      <th>merch_lat</th>\n",
       "      <th>merch_long</th>\n",
       "      <th>is_fraud</th>\n",
       "      <th>hour_of_day</th>\n",
       "      <th>day_of_week</th>\n",
       "    </tr>\n",
       "  </thead>\n",
       "  <tbody>\n",
       "    <tr>\n",
       "      <th>1045211</th>\n",
       "      <td>577588686219</td>\n",
       "      <td>fraud_Towne LLC</td>\n",
       "      <td>misc_pos</td>\n",
       "      <td>194.51</td>\n",
       "      <td>James</td>\n",
       "      <td>Strickland</td>\n",
       "      <td>M</td>\n",
       "      <td>25454 Leonard Lake</td>\n",
       "      <td>Spring Church</td>\n",
       "      <td>PA</td>\n",
       "      <td>...</td>\n",
       "      <td>-79.4545</td>\n",
       "      <td>972</td>\n",
       "      <td>Public relations account executive</td>\n",
       "      <td>1997-10-23</td>\n",
       "      <td>fff87d4340ef756a592eac652493cf6b</td>\n",
       "      <td>40.420453</td>\n",
       "      <td>-78.865012</td>\n",
       "      <td>0</td>\n",
       "      <td>15</td>\n",
       "      <td>0</td>\n",
       "    </tr>\n",
       "    <tr>\n",
       "      <th>547406</th>\n",
       "      <td>30376238035123</td>\n",
       "      <td>fraud_Friesen Ltd</td>\n",
       "      <td>health_fitness</td>\n",
       "      <td>52.32</td>\n",
       "      <td>Cynthia</td>\n",
       "      <td>Davis</td>\n",
       "      <td>F</td>\n",
       "      <td>7177 Steven Forges</td>\n",
       "      <td>Sixes</td>\n",
       "      <td>OR</td>\n",
       "      <td>...</td>\n",
       "      <td>-124.4409</td>\n",
       "      <td>217</td>\n",
       "      <td>Retail merchandiser</td>\n",
       "      <td>1928-10-01</td>\n",
       "      <td>d0ad335af432f35578eea01d639b3621</td>\n",
       "      <td>42.758860</td>\n",
       "      <td>-123.636337</td>\n",
       "      <td>0</td>\n",
       "      <td>15</td>\n",
       "      <td>3</td>\n",
       "    </tr>\n",
       "    <tr>\n",
       "      <th>110142</th>\n",
       "      <td>4658490815480264</td>\n",
       "      <td>fraud_Mohr Inc</td>\n",
       "      <td>shopping_pos</td>\n",
       "      <td>6.53</td>\n",
       "      <td>Tara</td>\n",
       "      <td>Richards</td>\n",
       "      <td>F</td>\n",
       "      <td>4879 Cristina Station</td>\n",
       "      <td>Keisterville</td>\n",
       "      <td>PA</td>\n",
       "      <td>...</td>\n",
       "      <td>-79.7853</td>\n",
       "      <td>184</td>\n",
       "      <td>Systems developer</td>\n",
       "      <td>1945-11-04</td>\n",
       "      <td>87f26e3ea33f4ff4c7a8bad2c7f48686</td>\n",
       "      <td>40.475159</td>\n",
       "      <td>-78.898190</td>\n",
       "      <td>0</td>\n",
       "      <td>1</td>\n",
       "      <td>0</td>\n",
       "    </tr>\n",
       "    <tr>\n",
       "      <th>1285953</th>\n",
       "      <td>3514897282719543</td>\n",
       "      <td>fraud_Gaylord-Powlowski</td>\n",
       "      <td>home</td>\n",
       "      <td>7.33</td>\n",
       "      <td>Steven</td>\n",
       "      <td>Faulkner</td>\n",
       "      <td>M</td>\n",
       "      <td>841 Cheryl Centers Suite 115</td>\n",
       "      <td>Farmington</td>\n",
       "      <td>NY</td>\n",
       "      <td>...</td>\n",
       "      <td>-77.3083</td>\n",
       "      <td>10717</td>\n",
       "      <td>Cytogeneticist</td>\n",
       "      <td>1952-10-13</td>\n",
       "      <td>9c34015321c0fa2ae6fd20f9359d1d3e</td>\n",
       "      <td>43.767506</td>\n",
       "      <td>-76.542384</td>\n",
       "      <td>0</td>\n",
       "      <td>20</td>\n",
       "      <td>1</td>\n",
       "    </tr>\n",
       "    <tr>\n",
       "      <th>271705</th>\n",
       "      <td>6011381817520024</td>\n",
       "      <td>fraud_Christiansen, Goyette and Schamberger</td>\n",
       "      <td>gas_transport</td>\n",
       "      <td>64.29</td>\n",
       "      <td>Kristen</td>\n",
       "      <td>Allen</td>\n",
       "      <td>F</td>\n",
       "      <td>8619 Lisa Manors Apt. 871</td>\n",
       "      <td>Lagrange</td>\n",
       "      <td>WY</td>\n",
       "      <td>...</td>\n",
       "      <td>-104.1974</td>\n",
       "      <td>635</td>\n",
       "      <td>Product/process development scientist</td>\n",
       "      <td>1973-07-13</td>\n",
       "      <td>198437c05676f485e9be04449c664475</td>\n",
       "      <td>41.040392</td>\n",
       "      <td>-104.092324</td>\n",
       "      <td>0</td>\n",
       "      <td>5</td>\n",
       "      <td>1</td>\n",
       "    </tr>\n",
       "  </tbody>\n",
       "</table>\n",
       "<p>5 rows × 22 columns</p>\n",
       "</div>"
      ],
      "text/plain": [
       "                   cc_num                                     merchant  \\\n",
       "1045211      577588686219                              fraud_Towne LLC   \n",
       "547406     30376238035123                            fraud_Friesen Ltd   \n",
       "110142   4658490815480264                               fraud_Mohr Inc   \n",
       "1285953  3514897282719543                      fraud_Gaylord-Powlowski   \n",
       "271705   6011381817520024  fraud_Christiansen, Goyette and Schamberger   \n",
       "\n",
       "               category     amt    first        last gender  \\\n",
       "1045211        misc_pos  194.51    James  Strickland      M   \n",
       "547406   health_fitness   52.32  Cynthia       Davis      F   \n",
       "110142     shopping_pos    6.53     Tara    Richards      F   \n",
       "1285953            home    7.33   Steven    Faulkner      M   \n",
       "271705    gas_transport   64.29  Kristen       Allen      F   \n",
       "\n",
       "                               street           city state  ...      long  \\\n",
       "1045211            25454 Leonard Lake  Spring Church    PA  ...  -79.4545   \n",
       "547406             7177 Steven Forges          Sixes    OR  ... -124.4409   \n",
       "110142          4879 Cristina Station   Keisterville    PA  ...  -79.7853   \n",
       "1285953  841 Cheryl Centers Suite 115     Farmington    NY  ...  -77.3083   \n",
       "271705      8619 Lisa Manors Apt. 871       Lagrange    WY  ... -104.1974   \n",
       "\n",
       "         city_pop                                    job         dob  \\\n",
       "1045211       972     Public relations account executive  1997-10-23   \n",
       "547406        217                    Retail merchandiser  1928-10-01   \n",
       "110142        184                      Systems developer  1945-11-04   \n",
       "1285953     10717                         Cytogeneticist  1952-10-13   \n",
       "271705        635  Product/process development scientist  1973-07-13   \n",
       "\n",
       "                                trans_num  merch_lat  merch_long  is_fraud  \\\n",
       "1045211  fff87d4340ef756a592eac652493cf6b  40.420453  -78.865012         0   \n",
       "547406   d0ad335af432f35578eea01d639b3621  42.758860 -123.636337         0   \n",
       "110142   87f26e3ea33f4ff4c7a8bad2c7f48686  40.475159  -78.898190         0   \n",
       "1285953  9c34015321c0fa2ae6fd20f9359d1d3e  43.767506  -76.542384         0   \n",
       "271705   198437c05676f485e9be04449c664475  41.040392 -104.092324         0   \n",
       "\n",
       "         hour_of_day  day_of_week  \n",
       "1045211           15            0  \n",
       "547406            15            3  \n",
       "110142             1            0  \n",
       "1285953           20            1  \n",
       "271705             5            1  \n",
       "\n",
       "[5 rows x 22 columns]"
      ]
     },
     "execution_count": 7,
     "metadata": {},
     "output_type": "execute_result"
    }
   ],
   "source": [
    "# Import libraries\n",
    "from datetime import datetime\n",
    "from geopy.distance import geodesic\n",
    "\n",
    "# Convert trans_date_trans_time to datetime\n",
    "df['trans_date_trans_time'] = pd.to_datetime(df['trans_date_trans_time'])\n",
    "\n",
    "# Extract numeric features from the timestamp\n",
    "df['hour_of_day'] = df['trans_date_trans_time'].dt.hour\n",
    "df['day_of_week'] = (df['trans_date_trans_time'].dt.dayofweek).astype(int)\n",
    "\n",
    "# Drop the original timestamp column\n",
    "df = df.drop(columns=['trans_date_trans_time', 'unix_time'])  # Dropping unix_time as it's redundant\n",
    "df.head()\n"
   ]
  },
  {
   "cell_type": "markdown",
   "id": "19d8b6e3",
   "metadata": {},
   "source": [
    "### Geographic Features:"
   ]
  },
  {
   "cell_type": "markdown",
   "id": "869cc6fd",
   "metadata": {},
   "source": [
    "- Calculate the distance between the transaction location and the cardholder's home location."
   ]
  },
  {
   "cell_type": "code",
   "execution_count": 8,
   "id": "0f52c5f0",
   "metadata": {},
   "outputs": [
    {
     "data": {
      "text/html": [
       "<div>\n",
       "<style scoped>\n",
       "    .dataframe tbody tr th:only-of-type {\n",
       "        vertical-align: middle;\n",
       "    }\n",
       "\n",
       "    .dataframe tbody tr th {\n",
       "        vertical-align: top;\n",
       "    }\n",
       "\n",
       "    .dataframe thead th {\n",
       "        text-align: right;\n",
       "    }\n",
       "</style>\n",
       "<table border=\"1\" class=\"dataframe\">\n",
       "  <thead>\n",
       "    <tr style=\"text-align: right;\">\n",
       "      <th></th>\n",
       "      <th>cc_num</th>\n",
       "      <th>merchant</th>\n",
       "      <th>category</th>\n",
       "      <th>amt</th>\n",
       "      <th>first</th>\n",
       "      <th>last</th>\n",
       "      <th>gender</th>\n",
       "      <th>street</th>\n",
       "      <th>city</th>\n",
       "      <th>state</th>\n",
       "      <th>...</th>\n",
       "      <th>city_pop</th>\n",
       "      <th>job</th>\n",
       "      <th>dob</th>\n",
       "      <th>trans_num</th>\n",
       "      <th>merch_lat</th>\n",
       "      <th>merch_long</th>\n",
       "      <th>is_fraud</th>\n",
       "      <th>hour_of_day</th>\n",
       "      <th>day_of_week</th>\n",
       "      <th>distance_from_home</th>\n",
       "    </tr>\n",
       "  </thead>\n",
       "  <tbody>\n",
       "    <tr>\n",
       "      <th>1045211</th>\n",
       "      <td>577588686219</td>\n",
       "      <td>fraud_Towne LLC</td>\n",
       "      <td>misc_pos</td>\n",
       "      <td>194.51</td>\n",
       "      <td>James</td>\n",
       "      <td>Strickland</td>\n",
       "      <td>M</td>\n",
       "      <td>25454 Leonard Lake</td>\n",
       "      <td>Spring Church</td>\n",
       "      <td>PA</td>\n",
       "      <td>...</td>\n",
       "      <td>972</td>\n",
       "      <td>Public relations account executive</td>\n",
       "      <td>1997-10-23</td>\n",
       "      <td>fff87d4340ef756a592eac652493cf6b</td>\n",
       "      <td>40.420453</td>\n",
       "      <td>-78.865012</td>\n",
       "      <td>0</td>\n",
       "      <td>15</td>\n",
       "      <td>0</td>\n",
       "      <td>33.827731</td>\n",
       "    </tr>\n",
       "    <tr>\n",
       "      <th>547406</th>\n",
       "      <td>30376238035123</td>\n",
       "      <td>fraud_Friesen Ltd</td>\n",
       "      <td>health_fitness</td>\n",
       "      <td>52.32</td>\n",
       "      <td>Cynthia</td>\n",
       "      <td>Davis</td>\n",
       "      <td>F</td>\n",
       "      <td>7177 Steven Forges</td>\n",
       "      <td>Sixes</td>\n",
       "      <td>OR</td>\n",
       "      <td>...</td>\n",
       "      <td>217</td>\n",
       "      <td>Retail merchandiser</td>\n",
       "      <td>1928-10-01</td>\n",
       "      <td>d0ad335af432f35578eea01d639b3621</td>\n",
       "      <td>42.758860</td>\n",
       "      <td>-123.636337</td>\n",
       "      <td>0</td>\n",
       "      <td>15</td>\n",
       "      <td>3</td>\n",
       "      <td>41.156088</td>\n",
       "    </tr>\n",
       "    <tr>\n",
       "      <th>110142</th>\n",
       "      <td>4658490815480264</td>\n",
       "      <td>fraud_Mohr Inc</td>\n",
       "      <td>shopping_pos</td>\n",
       "      <td>6.53</td>\n",
       "      <td>Tara</td>\n",
       "      <td>Richards</td>\n",
       "      <td>F</td>\n",
       "      <td>4879 Cristina Station</td>\n",
       "      <td>Keisterville</td>\n",
       "      <td>PA</td>\n",
       "      <td>...</td>\n",
       "      <td>184</td>\n",
       "      <td>Systems developer</td>\n",
       "      <td>1945-11-04</td>\n",
       "      <td>87f26e3ea33f4ff4c7a8bad2c7f48686</td>\n",
       "      <td>40.475159</td>\n",
       "      <td>-78.898190</td>\n",
       "      <td>0</td>\n",
       "      <td>1</td>\n",
       "      <td>0</td>\n",
       "      <td>58.713103</td>\n",
       "    </tr>\n",
       "    <tr>\n",
       "      <th>1285953</th>\n",
       "      <td>3514897282719543</td>\n",
       "      <td>fraud_Gaylord-Powlowski</td>\n",
       "      <td>home</td>\n",
       "      <td>7.33</td>\n",
       "      <td>Steven</td>\n",
       "      <td>Faulkner</td>\n",
       "      <td>M</td>\n",
       "      <td>841 Cheryl Centers Suite 115</td>\n",
       "      <td>Farmington</td>\n",
       "      <td>NY</td>\n",
       "      <td>...</td>\n",
       "      <td>10717</td>\n",
       "      <td>Cytogeneticist</td>\n",
       "      <td>1952-10-13</td>\n",
       "      <td>9c34015321c0fa2ae6fd20f9359d1d3e</td>\n",
       "      <td>43.767506</td>\n",
       "      <td>-76.542384</td>\n",
       "      <td>0</td>\n",
       "      <td>20</td>\n",
       "      <td>1</td>\n",
       "      <td>67.905228</td>\n",
       "    </tr>\n",
       "    <tr>\n",
       "      <th>271705</th>\n",
       "      <td>6011381817520024</td>\n",
       "      <td>fraud_Christiansen, Goyette and Schamberger</td>\n",
       "      <td>gas_transport</td>\n",
       "      <td>64.29</td>\n",
       "      <td>Kristen</td>\n",
       "      <td>Allen</td>\n",
       "      <td>F</td>\n",
       "      <td>8619 Lisa Manors Apt. 871</td>\n",
       "      <td>Lagrange</td>\n",
       "      <td>WY</td>\n",
       "      <td>...</td>\n",
       "      <td>635</td>\n",
       "      <td>Product/process development scientist</td>\n",
       "      <td>1973-07-13</td>\n",
       "      <td>198437c05676f485e9be04449c664475</td>\n",
       "      <td>41.040392</td>\n",
       "      <td>-104.092324</td>\n",
       "      <td>0</td>\n",
       "      <td>5</td>\n",
       "      <td>1</td>\n",
       "      <td>41.895488</td>\n",
       "    </tr>\n",
       "  </tbody>\n",
       "</table>\n",
       "<p>5 rows × 23 columns</p>\n",
       "</div>"
      ],
      "text/plain": [
       "                   cc_num                                     merchant  \\\n",
       "1045211      577588686219                              fraud_Towne LLC   \n",
       "547406     30376238035123                            fraud_Friesen Ltd   \n",
       "110142   4658490815480264                               fraud_Mohr Inc   \n",
       "1285953  3514897282719543                      fraud_Gaylord-Powlowski   \n",
       "271705   6011381817520024  fraud_Christiansen, Goyette and Schamberger   \n",
       "\n",
       "               category     amt    first        last gender  \\\n",
       "1045211        misc_pos  194.51    James  Strickland      M   \n",
       "547406   health_fitness   52.32  Cynthia       Davis      F   \n",
       "110142     shopping_pos    6.53     Tara    Richards      F   \n",
       "1285953            home    7.33   Steven    Faulkner      M   \n",
       "271705    gas_transport   64.29  Kristen       Allen      F   \n",
       "\n",
       "                               street           city state  ...  city_pop  \\\n",
       "1045211            25454 Leonard Lake  Spring Church    PA  ...       972   \n",
       "547406             7177 Steven Forges          Sixes    OR  ...       217   \n",
       "110142          4879 Cristina Station   Keisterville    PA  ...       184   \n",
       "1285953  841 Cheryl Centers Suite 115     Farmington    NY  ...     10717   \n",
       "271705      8619 Lisa Manors Apt. 871       Lagrange    WY  ...       635   \n",
       "\n",
       "                                           job         dob  \\\n",
       "1045211     Public relations account executive  1997-10-23   \n",
       "547406                     Retail merchandiser  1928-10-01   \n",
       "110142                       Systems developer  1945-11-04   \n",
       "1285953                         Cytogeneticist  1952-10-13   \n",
       "271705   Product/process development scientist  1973-07-13   \n",
       "\n",
       "                                trans_num  merch_lat  merch_long is_fraud  \\\n",
       "1045211  fff87d4340ef756a592eac652493cf6b  40.420453  -78.865012        0   \n",
       "547406   d0ad335af432f35578eea01d639b3621  42.758860 -123.636337        0   \n",
       "110142   87f26e3ea33f4ff4c7a8bad2c7f48686  40.475159  -78.898190        0   \n",
       "1285953  9c34015321c0fa2ae6fd20f9359d1d3e  43.767506  -76.542384        0   \n",
       "271705   198437c05676f485e9be04449c664475  41.040392 -104.092324        0   \n",
       "\n",
       "         hour_of_day  day_of_week  distance_from_home  \n",
       "1045211           15            0           33.827731  \n",
       "547406            15            3           41.156088  \n",
       "110142             1            0           58.713103  \n",
       "1285953           20            1           67.905228  \n",
       "271705             5            1           41.895488  \n",
       "\n",
       "[5 rows x 23 columns]"
      ]
     },
     "execution_count": 8,
     "metadata": {},
     "output_type": "execute_result"
    }
   ],
   "source": [
    "# Geographic features: Calculate the distance between the transaction\n",
    "# location and the cardholder's home location\n",
    "def calculate_distance(row):\n",
    "    home_location = (row['lat'], row['long'])\n",
    "    merch_location = (row['merch_lat'], row['merch_long'])\n",
    "    return geodesic(home_location, merch_location).miles\n",
    "df['distance_from_home'] = df.apply(calculate_distance, axis=1)\n",
    "df.head()"
   ]
  },
  {
   "cell_type": "markdown",
   "id": "fc2fca17",
   "metadata": {},
   "source": [
    "### Transaction Patterns:"
   ]
  },
  {
   "cell_type": "markdown",
   "id": "503c2d4f",
   "metadata": {},
   "source": [
    "- Identify anomalies in transaction amounts or frequencies."
   ]
  },
  {
   "cell_type": "code",
   "execution_count": 9,
   "id": "d5564bbf",
   "metadata": {
    "scrolled": false
   },
   "outputs": [
    {
     "data": {
      "text/html": [
       "<div>\n",
       "<style scoped>\n",
       "    .dataframe tbody tr th:only-of-type {\n",
       "        vertical-align: middle;\n",
       "    }\n",
       "\n",
       "    .dataframe tbody tr th {\n",
       "        vertical-align: top;\n",
       "    }\n",
       "\n",
       "    .dataframe thead th {\n",
       "        text-align: right;\n",
       "    }\n",
       "</style>\n",
       "<table border=\"1\" class=\"dataframe\">\n",
       "  <thead>\n",
       "    <tr style=\"text-align: right;\">\n",
       "      <th></th>\n",
       "      <th>cc_num</th>\n",
       "      <th>merchant</th>\n",
       "      <th>category</th>\n",
       "      <th>amt</th>\n",
       "      <th>first</th>\n",
       "      <th>last</th>\n",
       "      <th>gender</th>\n",
       "      <th>street</th>\n",
       "      <th>city</th>\n",
       "      <th>state</th>\n",
       "      <th>...</th>\n",
       "      <th>job</th>\n",
       "      <th>dob</th>\n",
       "      <th>trans_num</th>\n",
       "      <th>merch_lat</th>\n",
       "      <th>merch_long</th>\n",
       "      <th>is_fraud</th>\n",
       "      <th>hour_of_day</th>\n",
       "      <th>day_of_week</th>\n",
       "      <th>distance_from_home</th>\n",
       "      <th>is_high_amount</th>\n",
       "    </tr>\n",
       "  </thead>\n",
       "  <tbody>\n",
       "    <tr>\n",
       "      <th>1045211</th>\n",
       "      <td>577588686219</td>\n",
       "      <td>fraud_Towne LLC</td>\n",
       "      <td>misc_pos</td>\n",
       "      <td>194.51</td>\n",
       "      <td>James</td>\n",
       "      <td>Strickland</td>\n",
       "      <td>M</td>\n",
       "      <td>25454 Leonard Lake</td>\n",
       "      <td>Spring Church</td>\n",
       "      <td>PA</td>\n",
       "      <td>...</td>\n",
       "      <td>Public relations account executive</td>\n",
       "      <td>1997-10-23</td>\n",
       "      <td>fff87d4340ef756a592eac652493cf6b</td>\n",
       "      <td>40.420453</td>\n",
       "      <td>-78.865012</td>\n",
       "      <td>0</td>\n",
       "      <td>15</td>\n",
       "      <td>0</td>\n",
       "      <td>33.827731</td>\n",
       "      <td>0</td>\n",
       "    </tr>\n",
       "    <tr>\n",
       "      <th>547406</th>\n",
       "      <td>30376238035123</td>\n",
       "      <td>fraud_Friesen Ltd</td>\n",
       "      <td>health_fitness</td>\n",
       "      <td>52.32</td>\n",
       "      <td>Cynthia</td>\n",
       "      <td>Davis</td>\n",
       "      <td>F</td>\n",
       "      <td>7177 Steven Forges</td>\n",
       "      <td>Sixes</td>\n",
       "      <td>OR</td>\n",
       "      <td>...</td>\n",
       "      <td>Retail merchandiser</td>\n",
       "      <td>1928-10-01</td>\n",
       "      <td>d0ad335af432f35578eea01d639b3621</td>\n",
       "      <td>42.758860</td>\n",
       "      <td>-123.636337</td>\n",
       "      <td>0</td>\n",
       "      <td>15</td>\n",
       "      <td>3</td>\n",
       "      <td>41.156088</td>\n",
       "      <td>0</td>\n",
       "    </tr>\n",
       "    <tr>\n",
       "      <th>110142</th>\n",
       "      <td>4658490815480264</td>\n",
       "      <td>fraud_Mohr Inc</td>\n",
       "      <td>shopping_pos</td>\n",
       "      <td>6.53</td>\n",
       "      <td>Tara</td>\n",
       "      <td>Richards</td>\n",
       "      <td>F</td>\n",
       "      <td>4879 Cristina Station</td>\n",
       "      <td>Keisterville</td>\n",
       "      <td>PA</td>\n",
       "      <td>...</td>\n",
       "      <td>Systems developer</td>\n",
       "      <td>1945-11-04</td>\n",
       "      <td>87f26e3ea33f4ff4c7a8bad2c7f48686</td>\n",
       "      <td>40.475159</td>\n",
       "      <td>-78.898190</td>\n",
       "      <td>0</td>\n",
       "      <td>1</td>\n",
       "      <td>0</td>\n",
       "      <td>58.713103</td>\n",
       "      <td>0</td>\n",
       "    </tr>\n",
       "    <tr>\n",
       "      <th>1285953</th>\n",
       "      <td>3514897282719543</td>\n",
       "      <td>fraud_Gaylord-Powlowski</td>\n",
       "      <td>home</td>\n",
       "      <td>7.33</td>\n",
       "      <td>Steven</td>\n",
       "      <td>Faulkner</td>\n",
       "      <td>M</td>\n",
       "      <td>841 Cheryl Centers Suite 115</td>\n",
       "      <td>Farmington</td>\n",
       "      <td>NY</td>\n",
       "      <td>...</td>\n",
       "      <td>Cytogeneticist</td>\n",
       "      <td>1952-10-13</td>\n",
       "      <td>9c34015321c0fa2ae6fd20f9359d1d3e</td>\n",
       "      <td>43.767506</td>\n",
       "      <td>-76.542384</td>\n",
       "      <td>0</td>\n",
       "      <td>20</td>\n",
       "      <td>1</td>\n",
       "      <td>67.905228</td>\n",
       "      <td>0</td>\n",
       "    </tr>\n",
       "    <tr>\n",
       "      <th>271705</th>\n",
       "      <td>6011381817520024</td>\n",
       "      <td>fraud_Christiansen, Goyette and Schamberger</td>\n",
       "      <td>gas_transport</td>\n",
       "      <td>64.29</td>\n",
       "      <td>Kristen</td>\n",
       "      <td>Allen</td>\n",
       "      <td>F</td>\n",
       "      <td>8619 Lisa Manors Apt. 871</td>\n",
       "      <td>Lagrange</td>\n",
       "      <td>WY</td>\n",
       "      <td>...</td>\n",
       "      <td>Product/process development scientist</td>\n",
       "      <td>1973-07-13</td>\n",
       "      <td>198437c05676f485e9be04449c664475</td>\n",
       "      <td>41.040392</td>\n",
       "      <td>-104.092324</td>\n",
       "      <td>0</td>\n",
       "      <td>5</td>\n",
       "      <td>1</td>\n",
       "      <td>41.895488</td>\n",
       "      <td>0</td>\n",
       "    </tr>\n",
       "  </tbody>\n",
       "</table>\n",
       "<p>5 rows × 24 columns</p>\n",
       "</div>"
      ],
      "text/plain": [
       "                   cc_num                                     merchant  \\\n",
       "1045211      577588686219                              fraud_Towne LLC   \n",
       "547406     30376238035123                            fraud_Friesen Ltd   \n",
       "110142   4658490815480264                               fraud_Mohr Inc   \n",
       "1285953  3514897282719543                      fraud_Gaylord-Powlowski   \n",
       "271705   6011381817520024  fraud_Christiansen, Goyette and Schamberger   \n",
       "\n",
       "               category     amt    first        last gender  \\\n",
       "1045211        misc_pos  194.51    James  Strickland      M   \n",
       "547406   health_fitness   52.32  Cynthia       Davis      F   \n",
       "110142     shopping_pos    6.53     Tara    Richards      F   \n",
       "1285953            home    7.33   Steven    Faulkner      M   \n",
       "271705    gas_transport   64.29  Kristen       Allen      F   \n",
       "\n",
       "                               street           city state  ...  \\\n",
       "1045211            25454 Leonard Lake  Spring Church    PA  ...   \n",
       "547406             7177 Steven Forges          Sixes    OR  ...   \n",
       "110142          4879 Cristina Station   Keisterville    PA  ...   \n",
       "1285953  841 Cheryl Centers Suite 115     Farmington    NY  ...   \n",
       "271705      8619 Lisa Manors Apt. 871       Lagrange    WY  ...   \n",
       "\n",
       "                                           job         dob  \\\n",
       "1045211     Public relations account executive  1997-10-23   \n",
       "547406                     Retail merchandiser  1928-10-01   \n",
       "110142                       Systems developer  1945-11-04   \n",
       "1285953                         Cytogeneticist  1952-10-13   \n",
       "271705   Product/process development scientist  1973-07-13   \n",
       "\n",
       "                                trans_num  merch_lat  merch_long is_fraud  \\\n",
       "1045211  fff87d4340ef756a592eac652493cf6b  40.420453  -78.865012        0   \n",
       "547406   d0ad335af432f35578eea01d639b3621  42.758860 -123.636337        0   \n",
       "110142   87f26e3ea33f4ff4c7a8bad2c7f48686  40.475159  -78.898190        0   \n",
       "1285953  9c34015321c0fa2ae6fd20f9359d1d3e  43.767506  -76.542384        0   \n",
       "271705   198437c05676f485e9be04449c664475  41.040392 -104.092324        0   \n",
       "\n",
       "        hour_of_day  day_of_week  distance_from_home  is_high_amount  \n",
       "1045211          15            0           33.827731               0  \n",
       "547406           15            3           41.156088               0  \n",
       "110142            1            0           58.713103               0  \n",
       "1285953          20            1           67.905228               0  \n",
       "271705            5            1           41.895488               0  \n",
       "\n",
       "[5 rows x 24 columns]"
      ]
     },
     "execution_count": 9,
     "metadata": {},
     "output_type": "execute_result"
    }
   ],
   "source": [
    "# Transaction patterns: Identify unusual transaction amounts or \n",
    "# frequencies\n",
    "df['is_high_amount'] = df['amt'] > df['amt'].quantile(0.95)\n",
    "df['is_high_amount'] = df['is_high_amount'].astype(int)\n",
    "df.head()"
   ]
  },
  {
   "cell_type": "markdown",
   "id": "4a3b88b2",
   "metadata": {},
   "source": [
    "### Convert Categorical Variables to Numeric:"
   ]
  },
  {
   "cell_type": "markdown",
   "id": "cc310d48",
   "metadata": {},
   "source": [
    "- Convert categorical features (e.g., 'merchant', 'category', 'gender', 'job', 'state') into numeric format using one-hot encoding."
   ]
  },
  {
   "cell_type": "code",
   "execution_count": 10,
   "id": "27d567d4",
   "metadata": {},
   "outputs": [
    {
     "data": {
      "text/html": [
       "<div>\n",
       "<style scoped>\n",
       "    .dataframe tbody tr th:only-of-type {\n",
       "        vertical-align: middle;\n",
       "    }\n",
       "\n",
       "    .dataframe tbody tr th {\n",
       "        vertical-align: top;\n",
       "    }\n",
       "\n",
       "    .dataframe thead th {\n",
       "        text-align: right;\n",
       "    }\n",
       "</style>\n",
       "<table border=\"1\" class=\"dataframe\">\n",
       "  <thead>\n",
       "    <tr style=\"text-align: right;\">\n",
       "      <th></th>\n",
       "      <th>amt</th>\n",
       "      <th>lat</th>\n",
       "      <th>long</th>\n",
       "      <th>city_pop</th>\n",
       "      <th>merch_lat</th>\n",
       "      <th>merch_long</th>\n",
       "      <th>is_fraud</th>\n",
       "      <th>hour_of_day</th>\n",
       "      <th>day_of_week</th>\n",
       "      <th>distance_from_home</th>\n",
       "      <th>...</th>\n",
       "      <th>state_SD</th>\n",
       "      <th>state_TN</th>\n",
       "      <th>state_TX</th>\n",
       "      <th>state_UT</th>\n",
       "      <th>state_VA</th>\n",
       "      <th>state_VT</th>\n",
       "      <th>state_WA</th>\n",
       "      <th>state_WI</th>\n",
       "      <th>state_WV</th>\n",
       "      <th>state_WY</th>\n",
       "    </tr>\n",
       "  </thead>\n",
       "  <tbody>\n",
       "    <tr>\n",
       "      <th>1045211</th>\n",
       "      <td>194.51</td>\n",
       "      <td>40.6153</td>\n",
       "      <td>-79.4545</td>\n",
       "      <td>972</td>\n",
       "      <td>40.420453</td>\n",
       "      <td>-78.865012</td>\n",
       "      <td>0</td>\n",
       "      <td>15</td>\n",
       "      <td>0</td>\n",
       "      <td>33.827731</td>\n",
       "      <td>...</td>\n",
       "      <td>False</td>\n",
       "      <td>False</td>\n",
       "      <td>False</td>\n",
       "      <td>False</td>\n",
       "      <td>False</td>\n",
       "      <td>False</td>\n",
       "      <td>False</td>\n",
       "      <td>False</td>\n",
       "      <td>False</td>\n",
       "      <td>False</td>\n",
       "    </tr>\n",
       "    <tr>\n",
       "      <th>547406</th>\n",
       "      <td>52.32</td>\n",
       "      <td>42.8250</td>\n",
       "      <td>-124.4409</td>\n",
       "      <td>217</td>\n",
       "      <td>42.758860</td>\n",
       "      <td>-123.636337</td>\n",
       "      <td>0</td>\n",
       "      <td>15</td>\n",
       "      <td>3</td>\n",
       "      <td>41.156088</td>\n",
       "      <td>...</td>\n",
       "      <td>False</td>\n",
       "      <td>False</td>\n",
       "      <td>False</td>\n",
       "      <td>False</td>\n",
       "      <td>False</td>\n",
       "      <td>False</td>\n",
       "      <td>False</td>\n",
       "      <td>False</td>\n",
       "      <td>False</td>\n",
       "      <td>False</td>\n",
       "    </tr>\n",
       "    <tr>\n",
       "      <th>110142</th>\n",
       "      <td>6.53</td>\n",
       "      <td>39.9636</td>\n",
       "      <td>-79.7853</td>\n",
       "      <td>184</td>\n",
       "      <td>40.475159</td>\n",
       "      <td>-78.898190</td>\n",
       "      <td>0</td>\n",
       "      <td>1</td>\n",
       "      <td>0</td>\n",
       "      <td>58.713103</td>\n",
       "      <td>...</td>\n",
       "      <td>False</td>\n",
       "      <td>False</td>\n",
       "      <td>False</td>\n",
       "      <td>False</td>\n",
       "      <td>False</td>\n",
       "      <td>False</td>\n",
       "      <td>False</td>\n",
       "      <td>False</td>\n",
       "      <td>False</td>\n",
       "      <td>False</td>\n",
       "    </tr>\n",
       "    <tr>\n",
       "      <th>1285953</th>\n",
       "      <td>7.33</td>\n",
       "      <td>42.9580</td>\n",
       "      <td>-77.3083</td>\n",
       "      <td>10717</td>\n",
       "      <td>43.767506</td>\n",
       "      <td>-76.542384</td>\n",
       "      <td>0</td>\n",
       "      <td>20</td>\n",
       "      <td>1</td>\n",
       "      <td>67.905228</td>\n",
       "      <td>...</td>\n",
       "      <td>False</td>\n",
       "      <td>False</td>\n",
       "      <td>False</td>\n",
       "      <td>False</td>\n",
       "      <td>False</td>\n",
       "      <td>False</td>\n",
       "      <td>False</td>\n",
       "      <td>False</td>\n",
       "      <td>False</td>\n",
       "      <td>False</td>\n",
       "    </tr>\n",
       "    <tr>\n",
       "      <th>271705</th>\n",
       "      <td>64.29</td>\n",
       "      <td>41.6423</td>\n",
       "      <td>-104.1974</td>\n",
       "      <td>635</td>\n",
       "      <td>41.040392</td>\n",
       "      <td>-104.092324</td>\n",
       "      <td>0</td>\n",
       "      <td>5</td>\n",
       "      <td>1</td>\n",
       "      <td>41.895488</td>\n",
       "      <td>...</td>\n",
       "      <td>False</td>\n",
       "      <td>False</td>\n",
       "      <td>False</td>\n",
       "      <td>False</td>\n",
       "      <td>False</td>\n",
       "      <td>False</td>\n",
       "      <td>False</td>\n",
       "      <td>False</td>\n",
       "      <td>False</td>\n",
       "      <td>True</td>\n",
       "    </tr>\n",
       "  </tbody>\n",
       "</table>\n",
       "<p>5 rows × 1244 columns</p>\n",
       "</div>"
      ],
      "text/plain": [
       "            amt      lat      long  city_pop  merch_lat  merch_long  is_fraud  \\\n",
       "1045211  194.51  40.6153  -79.4545       972  40.420453  -78.865012         0   \n",
       "547406    52.32  42.8250 -124.4409       217  42.758860 -123.636337         0   \n",
       "110142     6.53  39.9636  -79.7853       184  40.475159  -78.898190         0   \n",
       "1285953    7.33  42.9580  -77.3083     10717  43.767506  -76.542384         0   \n",
       "271705    64.29  41.6423 -104.1974       635  41.040392 -104.092324         0   \n",
       "\n",
       "         hour_of_day  day_of_week  distance_from_home  ...  state_SD  \\\n",
       "1045211           15            0           33.827731  ...     False   \n",
       "547406            15            3           41.156088  ...     False   \n",
       "110142             1            0           58.713103  ...     False   \n",
       "1285953           20            1           67.905228  ...     False   \n",
       "271705             5            1           41.895488  ...     False   \n",
       "\n",
       "         state_TN  state_TX  state_UT  state_VA  state_VT  state_WA  state_WI  \\\n",
       "1045211     False     False     False     False     False     False     False   \n",
       "547406      False     False     False     False     False     False     False   \n",
       "110142      False     False     False     False     False     False     False   \n",
       "1285953     False     False     False     False     False     False     False   \n",
       "271705      False     False     False     False     False     False     False   \n",
       "\n",
       "         state_WV  state_WY  \n",
       "1045211     False     False  \n",
       "547406      False     False  \n",
       "110142      False     False  \n",
       "1285953     False     False  \n",
       "271705      False      True  \n",
       "\n",
       "[5 rows x 1244 columns]"
      ]
     },
     "execution_count": 10,
     "metadata": {},
     "output_type": "execute_result"
    }
   ],
   "source": [
    "# One-hot encode categorical variables\n",
    "df_encoded = pd.get_dummies(df, columns=['merchant', 'category', 'gender', 'job', 'state'], drop_first=True)\n",
    "\n",
    "# Drop other non-numeric columns that are not needed for modeling\n",
    "df_encoded = df_encoded.drop(columns=['cc_num', 'first', 'last', 'street', 'city', 'zip', 'dob', 'trans_num'])\n",
    "df_encoded.head()"
   ]
  },
  {
   "cell_type": "markdown",
   "id": "b2e84f9b",
   "metadata": {},
   "source": [
    "## Feature Scaling"
   ]
  },
  {
   "cell_type": "markdown",
   "id": "81e3e70e",
   "metadata": {},
   "source": [
    "- Scale the numeric features to ensure they're on a similar scale before applying SMOTE."
   ]
  },
  {
   "cell_type": "markdown",
   "id": "7cf3a982",
   "metadata": {},
   "source": [
    "### Scaling:"
   ]
  },
  {
   "cell_type": "markdown",
   "id": "57c00838",
   "metadata": {},
   "source": [
    "- Scale the features to a standard range (e.g., using StandardScaler )."
   ]
  },
  {
   "cell_type": "code",
   "execution_count": 11,
   "id": "459b74c7",
   "metadata": {},
   "outputs": [],
   "source": [
    "from sklearn.preprocessing import StandardScaler\n",
    "\n",
    "# Select features for scaling\n",
    "scaler = StandardScaler()\n",
    "X_scaled = scaler.fit_transform(df_encoded.drop('is_fraud', axis=1))\n",
    "\n",
    "# Prepare the target variable\n",
    "y = df_encoded['is_fraud']\n"
   ]
  },
  {
   "cell_type": "markdown",
   "id": "5f2dcf05",
   "metadata": {},
   "source": [
    "## Addressing Class Imbalance"
   ]
  },
  {
   "cell_type": "markdown",
   "id": "3131388e",
   "metadata": {},
   "source": [
    "- Use techniques like SMOTE to balance the dataset before training the model."
   ]
  },
  {
   "cell_type": "markdown",
   "id": "9d55bb50",
   "metadata": {},
   "source": [
    "### SMOTE:"
   ]
  },
  {
   "cell_type": "markdown",
   "id": "4310ad6f",
   "metadata": {},
   "source": [
    "- Apply SMOTE to generate synthetic samples for the minority class (fraudulent transactions)."
   ]
  },
  {
   "cell_type": "code",
   "execution_count": 12,
   "id": "c172b333",
   "metadata": {
    "scrolled": true
   },
   "outputs": [
    {
     "name": "stdout",
     "output_type": "stream",
     "text": [
      "is_fraud\n",
      "0    32230\n",
      "1    32230\n",
      "Name: count, dtype: int64\n"
     ]
    }
   ],
   "source": [
    "from imblearn.over_sampling import SMOTE\n",
    "\n",
    "# Apply SMOTE\n",
    "smote = SMOTE(random_state=42)\n",
    "X_resampled, y_resampled = smote.fit_resample(X_scaled, y)\n",
    "\n",
    "# Check the balance of the classes \n",
    "print(y_resampled.value_counts())"
   ]
  },
  {
   "cell_type": "markdown",
   "id": "ffa8ee62",
   "metadata": {},
   "source": [
    "## Model Selection and Development"
   ]
  },
  {
   "cell_type": "markdown",
   "id": "7b364242",
   "metadata": {},
   "source": [
    "- Train and evaluate different machine learning models."
   ]
  },
  {
   "cell_type": "markdown",
   "id": "44e667aa",
   "metadata": {},
   "source": [
    "### Train Models:"
   ]
  },
  {
   "cell_type": "markdown",
   "id": "4998eb2a",
   "metadata": {},
   "source": [
    "- Train models like Logistic Regression, Random Forest, XGBoost, and Neural Networks"
   ]
  },
  {
   "cell_type": "markdown",
   "id": "371c00d3",
   "metadata": {},
   "source": [
    "#### Logistic Regression:"
   ]
  },
  {
   "cell_type": "code",
   "execution_count": 13,
   "id": "67e73a26",
   "metadata": {},
   "outputs": [
    {
     "name": "stdout",
     "output_type": "stream",
     "text": [
      "Logistic Regression Performance:\n",
      "              precision    recall  f1-score   support\n",
      "\n",
      "           0       1.00      1.00      1.00      6475\n",
      "           1       1.00      1.00      1.00      6417\n",
      "\n",
      "    accuracy                           1.00     12892\n",
      "   macro avg       1.00      1.00      1.00     12892\n",
      "weighted avg       1.00      1.00      1.00     12892\n",
      "\n"
     ]
    }
   ],
   "source": [
    "from sklearn.linear_model import LogisticRegression\n",
    "from sklearn.metrics import classification_report\n",
    "\n",
    "X_train, X_test, y_train, y_test = train_test_split(X_resampled, y_resampled, test_size=0.2, random_state=42)\n",
    "\n",
    "log_reg = LogisticRegression()\n",
    "log_reg.fit(X_resampled, y_resampled)\n",
    "y_pred_log_reg = log_reg.predict(X_test)\n",
    "print(\"Logistic Regression Performance:\")\n",
    "print(classification_report(y_test, y_pred_log_reg))"
   ]
  },
  {
   "cell_type": "markdown",
   "id": "f009d69a",
   "metadata": {},
   "source": [
    "#### Random Forest:"
   ]
  },
  {
   "cell_type": "code",
   "execution_count": 14,
   "id": "b52cf2fa",
   "metadata": {
    "scrolled": true
   },
   "outputs": [
    {
     "name": "stdout",
     "output_type": "stream",
     "text": [
      "Random Forest Performance:\n",
      "              precision    recall  f1-score   support\n",
      "\n",
      "           0       0.97      0.99      0.98      6475\n",
      "           1       0.99      0.97      0.98      6417\n",
      "\n",
      "    accuracy                           0.98     12892\n",
      "   macro avg       0.98      0.98      0.98     12892\n",
      "weighted avg       0.98      0.98      0.98     12892\n",
      "\n"
     ]
    }
   ],
   "source": [
    "from sklearn.ensemble import RandomForestClassifier\n",
    "\n",
    "rf = RandomForestClassifier(n_estimators=100, max_depth=10, random_state=42)\n",
    "rf.fit(X_resampled, y_resampled)\n",
    "y_pred_rf = rf.predict(X_test)\n",
    "print(\"Random Forest Performance:\")\n",
    "print(classification_report(y_test, y_pred_rf))"
   ]
  },
  {
   "cell_type": "markdown",
   "id": "6663ccb9",
   "metadata": {},
   "source": [
    "#### XGBoost:"
   ]
  },
  {
   "cell_type": "code",
   "execution_count": 15,
   "id": "ad4f2ee5",
   "metadata": {},
   "outputs": [
    {
     "name": "stderr",
     "output_type": "stream",
     "text": [
      "C:\\Users\\damid\\anaconda3\\Lib\\site-packages\\xgboost\\core.py:158: UserWarning: [13:18:40] WARNING: D:\\bld\\xgboost-split_1724807710452\\work\\src\\learner.cc:740: \n",
      "Parameters: { \"use_label_encoder\" } are not used.\n",
      "\n",
      "  warnings.warn(smsg, UserWarning)\n"
     ]
    },
    {
     "name": "stdout",
     "output_type": "stream",
     "text": [
      "XGBoost Performance:\n",
      "              precision    recall  f1-score   support\n",
      "\n",
      "           0       1.00      1.00      1.00      6475\n",
      "           1       1.00      1.00      1.00      6417\n",
      "\n",
      "    accuracy                           1.00     12892\n",
      "   macro avg       1.00      1.00      1.00     12892\n",
      "weighted avg       1.00      1.00      1.00     12892\n",
      "\n"
     ]
    }
   ],
   "source": [
    "import xgboost as xgb\n",
    "\n",
    "xgb_model = xgb.XGBClassifier(use_label_encoder=False, eval_metric='logloss')\n",
    "xgb_model.fit(X_resampled, y_resampled)\n",
    "y_pred_xgb = xgb_model.predict(X_test)\n",
    "print(\"XGBoost Performance:\")\n",
    "print(classification_report(y_test, y_pred_xgb))"
   ]
  },
  {
   "cell_type": "markdown",
   "id": "c253b159",
   "metadata": {},
   "source": [
    "#### Neural Network:"
   ]
  },
  {
   "cell_type": "code",
   "execution_count": 16,
   "id": "04cc3805",
   "metadata": {
    "scrolled": false
   },
   "outputs": [
    {
     "name": "stdout",
     "output_type": "stream",
     "text": [
      "MLPClassifier Performance:\n",
      "              precision    recall  f1-score   support\n",
      "\n",
      "           0       1.00      1.00      1.00      6475\n",
      "           1       1.00      1.00      1.00      6417\n",
      "\n",
      "    accuracy                           1.00     12892\n",
      "   macro avg       1.00      1.00      1.00     12892\n",
      "weighted avg       1.00      1.00      1.00     12892\n",
      "\n"
     ]
    }
   ],
   "source": [
    "from sklearn.neural_network import MLPClassifier\n",
    "from sklearn.metrics import accuracy_score, classification_report\n",
    "import numpy as np\n",
    "\n",
    "mlp = MLPClassifier(hidden_layer_sizes=(32, 16), activation='relu', solver='adam', max_iter=200, random_state=42)\n",
    "\n",
    "mlp.fit(X_train, y_train)\n",
    "\n",
    "y_pred_mlp = mlp.predict(X_test)\n",
    "\n",
    "print(\"MLPClassifier Performance:\")\n",
    "print(classification_report(y_test, y_pred_mlp))\n"
   ]
  },
  {
   "cell_type": "markdown",
   "id": "524be79c",
   "metadata": {},
   "source": [
    "### Evaluate Performance:"
   ]
  },
  {
   "cell_type": "markdown",
   "id": "f13bdf63",
   "metadata": {},
   "source": [
    "- Use metrics like precision, recall, F1-score, and confusion matrix to assess model performance."
   ]
  },
  {
   "cell_type": "markdown",
   "id": "19308611",
   "metadata": {},
   "source": [
    "#### Logistic Regression Performance:"
   ]
  },
  {
   "cell_type": "markdown",
   "id": "521a9355",
   "metadata": {},
   "source": [
    "Performance Metrics:\n",
    "\n",
    "- Precision (Class 0): 1.00\n",
    "- Recall (Class 0): 0.98\n",
    "- F1-Score (Class 0): 0.99\n",
    "- Precision (Class 1): 0.98\n",
    "- Recall (Class 1): 1.00\n",
    "- F1-Score (Class 1): 0.99\n",
    "- Overall Accuracy: 0.99\n",
    "\n",
    "Analysis:\n",
    "- Logistic Regression performs well with high precision and recall for both classes.\n",
    "- It slightly underperforms in recalling legitimate transactions (class 0), which may suggest it is more conservative in classifying transactions as legitimate.\n",
    "- This model is strong but slightly less balanced in terms of recall for class 0.\n"
   ]
  },
  {
   "cell_type": "markdown",
   "id": "64d07221",
   "metadata": {},
   "source": [
    "#### Random Forest Performance"
   ]
  },
  {
   "cell_type": "markdown",
   "id": "9274efba",
   "metadata": {},
   "source": [
    "Performance Metrics:\n",
    "- Precision (Class 0): 0.96\n",
    "- Recall (Class 0): 0.98\n",
    "- F1-Score (Class 0): 0.97\n",
    "- Precision (Class 1): 0.98\n",
    "- Recall (Class 1): 0.96\n",
    "- F1-Score (Class 1): 0.97\n",
    "- Overall Accuracy: 0.97\n",
    "\n",
    "Analysis:\n",
    "\n",
    "- The Random Forest model performs well, though it has slightly lower accuracy than Logistic Regression.\n",
    "- It balances precision and recall well across both classes, making it a more consistent performer.\n",
    "- There is a small drop in recall for class 1 compared to class 0, suggesting it may occasionally miss fraudulent transactions.\n"
   ]
  },
  {
   "cell_type": "markdown",
   "id": "5368e41a",
   "metadata": {},
   "source": [
    "#### XGBoost Performance"
   ]
  },
  {
   "cell_type": "markdown",
   "id": "e9472546",
   "metadata": {},
   "source": [
    "Performance Metrics:\n",
    "\n",
    "- Precision (Class 0): 1.00\n",
    "- Recall (Class 0): 1.00\n",
    "- F1-Score (Class 0): 1.00\n",
    "- Precision (Class 1): 1.00\n",
    "- Recall (Class 1): 1.00\n",
    "- F1-Score (Class 1): 1.00\n",
    "- Overall Accuracy: 1.00\n",
    "\n",
    "Analysis:\n",
    "\n",
    "- XGBoost is showing perfect performance across all metrics, which might indicate overfitting, especially considering that both precision and recall are at 100%.\n",
    "- While this looks ideal, it is important to ensure this performance holds on a truly unseen test set. This could be a sign of overfitting on the current dataset.\n"
   ]
  },
  {
   "cell_type": "markdown",
   "id": "70df37dd",
   "metadata": {},
   "source": [
    "#### Neural Network (MLPClassifier) Performance"
   ]
  },
  {
   "cell_type": "markdown",
   "id": "e4a809d7",
   "metadata": {},
   "source": [
    "Performance Metrics:\n",
    "\n",
    "- Precision (Class 0): 1.00\n",
    "- Recall (Class 0): 1.00\n",
    "- F1-Score (Class 0): 1.00\n",
    "- Precision (Class 1): 1.00\n",
    "- Recall (Class 1): 1.00\n",
    "- F1-Score (Class 1): 1.00\n",
    "- Overall Accuracy: 1.00\n",
    "\n",
    "Analysis:\n",
    "\n",
    "- Like XGBoost, the Neural Network model is showing perfect performance, which might also indicate overfitting.\n",
    "- This model also needs further validation on a separate dataset to ensure these metrics are not overly optimistic."
   ]
  },
  {
   "cell_type": "markdown",
   "id": "2965971e",
   "metadata": {},
   "source": [
    "## Model Generalization and Overfitting Mitigation"
   ]
  },
  {
   "cell_type": "markdown",
   "id": "54ce1694",
   "metadata": {},
   "source": [
    "- The initial evaluation shows that some models, especially XGBoost and Neural Networks, are shows signs of overiftting. Here we will mitigate and esnure the models generalize well."
   ]
  },
  {
   "cell_type": "markdown",
   "id": "cd4f9ca6",
   "metadata": {},
   "source": [
    "### Perform K-Fold Cross-Validation:"
   ]
  },
  {
   "cell_type": "markdown",
   "id": "e9fe2688",
   "metadata": {},
   "source": [
    "- Apply cross-validation to assess the models' performance on multiple folds of the dataset. "
   ]
  },
  {
   "cell_type": "markdown",
   "id": "d3a5f2bc",
   "metadata": {},
   "source": [
    "#### Logistic Regression Cross-Validation"
   ]
  },
  {
   "cell_type": "code",
   "execution_count": 17,
   "id": "33612333",
   "metadata": {},
   "outputs": [
    {
     "name": "stdout",
     "output_type": "stream",
     "text": [
      "Logistic Regression CV Accuracy: 0.9939\n"
     ]
    }
   ],
   "source": [
    "from sklearn.model_selection import cross_val_score\n",
    "\n",
    "# Logistic Regression Cross-Validation\n",
    "log_reg_cv = LogisticRegression()\n",
    "scores_log_reg = cross_val_score(log_reg_cv, X_resampled, y_resampled, cv=5, scoring='accuracy')\n",
    "print(f\"Logistic Regression CV Accuracy: {scores_log_reg.mean():.4f}\")"
   ]
  },
  {
   "cell_type": "markdown",
   "id": "57fcfac1",
   "metadata": {},
   "source": [
    "#### Random Forest Cross-Validation"
   ]
  },
  {
   "cell_type": "code",
   "execution_count": 18,
   "id": "6c83bf72",
   "metadata": {},
   "outputs": [
    {
     "name": "stdout",
     "output_type": "stream",
     "text": [
      "Random Forest CV Accuracy: 0.9817\n"
     ]
    }
   ],
   "source": [
    "# Random Forest Cross-Validation\n",
    "rf_cv = RandomForestClassifier(n_estimators=100, max_depth=10, random_state=42)\n",
    "scores_rf = cross_val_score(rf_cv, X_resampled, y_resampled, cv=5, scoring='accuracy')\n",
    "print(f\"Random Forest CV Accuracy: {scores_rf.mean():.4f}\")"
   ]
  },
  {
   "cell_type": "markdown",
   "id": "a6f6cde8",
   "metadata": {},
   "source": [
    "#### XGBoost Cross-Validation"
   ]
  },
  {
   "cell_type": "code",
   "execution_count": 25,
   "id": "ab3e69cb",
   "metadata": {
    "scrolled": false
   },
   "outputs": [
    {
     "name": "stderr",
     "output_type": "stream",
     "text": [
      "C:\\Users\\damid\\anaconda3\\Lib\\site-packages\\xgboost\\core.py:158: UserWarning: [16:38:50] WARNING: D:\\bld\\xgboost-split_1724807710452\\work\\src\\learner.cc:740: \n",
      "Parameters: { \"use_label_encoder\" } are not used.\n",
      "\n",
      "  warnings.warn(smsg, UserWarning)\n",
      "C:\\Users\\damid\\anaconda3\\Lib\\site-packages\\xgboost\\core.py:158: UserWarning: [16:39:18] WARNING: D:\\bld\\xgboost-split_1724807710452\\work\\src\\learner.cc:740: \n",
      "Parameters: { \"use_label_encoder\" } are not used.\n",
      "\n",
      "  warnings.warn(smsg, UserWarning)\n",
      "C:\\Users\\damid\\anaconda3\\Lib\\site-packages\\xgboost\\core.py:158: UserWarning: [16:39:43] WARNING: D:\\bld\\xgboost-split_1724807710452\\work\\src\\learner.cc:740: \n",
      "Parameters: { \"use_label_encoder\" } are not used.\n",
      "\n",
      "  warnings.warn(smsg, UserWarning)\n",
      "C:\\Users\\damid\\anaconda3\\Lib\\site-packages\\xgboost\\core.py:158: UserWarning: [16:40:09] WARNING: D:\\bld\\xgboost-split_1724807710452\\work\\src\\learner.cc:740: \n",
      "Parameters: { \"use_label_encoder\" } are not used.\n",
      "\n",
      "  warnings.warn(smsg, UserWarning)\n",
      "C:\\Users\\damid\\anaconda3\\Lib\\site-packages\\xgboost\\core.py:158: UserWarning: [16:40:33] WARNING: D:\\bld\\xgboost-split_1724807710452\\work\\src\\learner.cc:740: \n",
      "Parameters: { \"use_label_encoder\" } are not used.\n",
      "\n",
      "  warnings.warn(smsg, UserWarning)\n"
     ]
    },
    {
     "name": "stdout",
     "output_type": "stream",
     "text": [
      "XGBoost CV Accuracy: 0.9984\n"
     ]
    }
   ],
   "source": [
    "# XGBoost Cross-Validation\n",
    "xgb_cv = xgb.XGBClassifier(use_label_encoder=False, eval_metric='logloss')\n",
    "scores_xgb = cross_val_score(xgb_cv, X_resampled, y_resampled, cv=5, scoring='accuracy')\n",
    "print(f\"XGBoost CV Accuracy: {scores_xgb.mean():.4f}\")"
   ]
  },
  {
   "cell_type": "markdown",
   "id": "3dcecb25",
   "metadata": {},
   "source": [
    "#### Neural Network Cross-Validation"
   ]
  },
  {
   "cell_type": "code",
   "execution_count": 20,
   "id": "b5d2c663",
   "metadata": {},
   "outputs": [
    {
     "name": "stdout",
     "output_type": "stream",
     "text": [
      "Neural Network CV Accuracy: 0.9986\n"
     ]
    }
   ],
   "source": [
    "# Neural Network Cross-Validation\n",
    "mlp_cv = MLPClassifier(hidden_layer_sizes=(32, 16), activation='relu', solver='adam', max_iter=200, random_state=42)\n",
    "scores_mlp = cross_val_score(mlp_cv, X_resampled, y_resampled, cv=5, scoring='accuracy')\n",
    "print(f\"Neural Network CV Accuracy: {scores_mlp.mean():.4f}\")"
   ]
  },
  {
   "cell_type": "markdown",
   "id": "7e74c112",
   "metadata": {},
   "source": [
    "### K-Fold Cross-Validation Evaluation:"
   ]
  },
  {
   "cell_type": "markdown",
   "id": "d0ac53cf",
   "metadata": {},
   "source": [
    "To ensure the models generalize well and are not overfitting, K-Fold Cross validation was applied to each model. K-Fold Cross-Validation splits the dataset into k subsets (folds) and evaluates the model perfromance across all subsets. This approach helps mitigate overfitting by ensuring the model performs consistently on different portions of the dataset.\n",
    "\n",
    "The following results were obtained for the models:\n",
    "- Logistic Regression: The average cross-validated accuracy was 99.39%, demonstrating strong performance and good generalization across different folds.\n",
    "- Random Forest: The model achieved an average accuracy of 98.17%, performing well across the folds, with no signs of overfitting.\n",
    "- XGBoost: The XGBoost model demonstrated high performance with an average accuracy of 99.84%. While these results are promising, further testing on new datasets is necessary to confirm generalization.\n",
    "- Neural Network (MLPClassifier): Similar to XGBoost, the Neural Network model achieved an average accuracy of 99.86%, again showing the need for further validation on unseen data to rule out overfitting.\n",
    "\n",
    "These cross-validation results provide a more robust evaluation of the models’ performance, confirming that the Logistic Regression and Random Forest models perform well without overfitting. However, the perfect scores for XGBoost and the Neural Network model may still indicate some degree of overfitting, and further testing on a separate test set is advised."
   ]
  },
  {
   "cell_type": "markdown",
   "id": "777d972e",
   "metadata": {},
   "source": [
    "## Feature Importance and Interpretation"
   ]
  },
  {
   "cell_type": "markdown",
   "id": "202c1aec",
   "metadata": {},
   "source": [
    "- Identify and interpret the most important features that influence whether a transaction is fraudulent."
   ]
  },
  {
   "cell_type": "markdown",
   "id": "bfd75860",
   "metadata": {},
   "source": [
    "### Determine Feature Importance:"
   ]
  },
  {
   "cell_type": "markdown",
   "id": "1110c389",
   "metadata": {},
   "source": [
    "- Use the Random Forest Model to extract most important features"
   ]
  },
  {
   "cell_type": "code",
   "execution_count": 21,
   "id": "78df5b99",
   "metadata": {},
   "outputs": [
    {
     "data": {
      "image/png": "[encoded data removed]",
      "text/plain": [
       "<Figure size 1000x600 with 1 Axes>"
      ]
     },
     "metadata": {},
     "output_type": "display_data"
    }
   ],
   "source": [
    "import matplotlib.pyplot as plt\n",
    "import numpy as np\n",
    "\n",
    "# Feature importance from Random Forest\n",
    "importance = rf.feature_importances_\n",
    "indices = np.argsort(importance)[-10:]  # Top 10 features\n",
    "\n",
    "# Plot feature importance\n",
    "plt.figure(figsize=(10,6))\n",
    "plt.title(\"Feature Importance from Random Forest\")\n",
    "plt.barh(range(len(indices)), importance[indices], align=\"center\")\n",
    "plt.yticks(range(len(indices)), [df_encoded.columns[i] for i in indices])\n",
    "plt.xlabel(\"Relative Importance\")\n",
    "plt.show()"
   ]
  },
  {
   "cell_type": "markdown",
   "id": "94b64b10",
   "metadata": {},
   "source": [
    "### Feature Importance Interpretation:"
   ]
  },
  {
   "cell_type": "markdown",
   "id": "bf6bccf2",
   "metadata": {},
   "source": [
    "The feature importance graph from the Random Forest model provides valuable insights into which variables are most influential in predicting fraudulent transactions. Here is the analysis of the top contributing features:\n",
    "\n",
    "\n",
    "1. **Distance from Home**\n",
    "    - **Importance**: This is the most important feature, with the highest relative importance of around 0.16.\n",
    "    - **Interpretation**: Fraudulent transactions tend to occur far from the cardholder's usual location. This makes sense because criminals often use stolen credit cards in different regions to avoid detection by the cardholder. This feature captures geographic anomalies, making it a strong predictor of fraud.\n",
    "    \n",
    "2. **Transaction Amount (amt)**\n",
    "    - **Importance**: The second most important feature, with a similar relative importance to \"distance_from_home.\"\n",
    "    - **Interpretation**: High transaction amounts are often flagged as suspicious, particularly when they deviate from the cardholder's typical spending pattern. Larger-than-usual transactions might trigger alerts, especially in combination with other suspicious behavior.\n",
    "    \n",
    "3. **State (FL)**\n",
    "    - **Importance**: The third most important feature, indicating the state where the transaction took place.\n",
    "    - **Interpretation**: Certain locations, in this case, Florida (FL), might have been associated with a higher number of fraudulent transactions in this dataset. This could be due to region-specific fraud patterns or cardholder behavior in this location.\n",
    "    \n",
    "4. **Merchant (fraud_Kuhn Group)**\n",
    "    - **Importance**: Certain merchants like \"Kuhn Group\" appear high in the feature importance ranking.\n",
    "    - **Interpretation**: Specific merchants might be more prone to fraudulent transactions or could be part of a scheme where fraud is more frequent. This might also represent certain merchant categories (e.g., high-risk services or items) that are more frequently targeted by fraudsters.\n",
    "    \n",
    "5. **Merchant (fraud_Schaefer, Fay and Hilll)**\n",
    "    - **Importance**: Another specific merchant that shows relatively high importance in fraud detection.\n",
    "    - **Interpretation**: Similar to the previous merchant, certain business entities or merchant categories might be inherently higher risk in terms of fraud occurrences.\n",
    "\n",
    "6. **Hour of Day**\n",
    "    - **Importance**: The hour at which the transaction took place also plays a role in determining fraud, with medium importance.\n",
    "    - **Interpretation**: Transactions that occur late at night or during unusual hours may be more likely to be fraudulent, as fraudsters often make transactions when the cardholder is less likely to notice.\n",
    "\n",
    "7. **Job (Field Trials Officer)**\n",
    "    - **Importance**: The occupation of the cardholder appears to have some predictive power in detecting fraud.\n",
    "    - **Interpretation**: Certain jobs may have associated spending patterns or risk profiles. For instance, jobs involving frequent travel or high-income individuals might be more likely to have fraudulent charges on their accounts.\n",
    "\n",
    "8. **Category (grocery_net)**\n",
    "    - **Importance**: The category of the purchase, such as \"grocery_net,\" also shows moderate importance.\n",
    "    - **Interpretation**: Some categories might see fewer fraudulent transactions (e.g., daily necessities like groceries) compared to high-risk categories such as electronics or luxury goods. However, this category's inclusion suggests that even low-risk categories need to be monitored for fraud.\n",
    "\n",
    "9. **Category (travel)**\n",
    "    - **Importance**: Travel-related purchases show medium importance in detecting fraud.\n",
    "    - **Interpretation**: Travel-related transactions can often trigger fraud alerts, especially when they occur far from the cardholder's home or involve large amounts. Travel is often linked with higher spending, which could attract fraudsters.\n",
    "    \n",
    "9. **Job (Systems Analyst)**\n",
    "    - **Importance**: Another occupation that plays a role in predicting fraud.\n",
    "    - **Interpretation**: Like the previous job feature, certain occupations might have specific spending patterns or risk profiles that make them more or less prone to fraud.\n",
    "\n",
    "#### Summary:\n",
    "\n",
    "The most critical features for detecting fraud in this model are geographic distance between the cardholder and transaction location, the amount of the transaction, and specific merchant names and locations. Features like the hour of the day and cardholder job also contribute to the detection process. This analysis can guide further refinement of fraud detection systems by focusing on high-impact variables, such as location-based behavior and transaction amounts, while considering unique risk profiles based on merchant and occupation data."
   ]
  },
  {
   "cell_type": "markdown",
   "id": "1ae896d0",
   "metadata": {},
   "source": [
    "## Reducing False Positives While Maintaining Security"
   ]
  },
  {
   "cell_type": "markdown",
   "id": "deefcee1",
   "metadata": {},
   "source": [
    "- Analyze how models can be tuned to reduce false positives without comprimising security."
   ]
  },
  {
   "cell_type": "markdown",
   "id": "a1ce0026",
   "metadata": {},
   "source": [
    "### Threshold Tuning:"
   ]
  },
  {
   "cell_type": "markdown",
   "id": "288ed1d8",
   "metadata": {},
   "source": [
    "- Adjust the decision threshold for classifying transactions as fraudulent to reduce false positives."
   ]
  },
  {
   "cell_type": "code",
   "execution_count": 23,
   "id": "d7e45d7f",
   "metadata": {},
   "outputs": [
    {
     "name": "stdout",
     "output_type": "stream",
     "text": [
      "Logistic Regression Performance (Adjusted Threshold):\n",
      "              precision    recall  f1-score   support\n",
      "\n",
      "           0       1.00      0.99      1.00      6475\n",
      "           1       0.99      1.00      1.00      6417\n",
      "\n",
      "    accuracy                           1.00     12892\n",
      "   macro avg       1.00      1.00      1.00     12892\n",
      "weighted avg       1.00      1.00      1.00     12892\n",
      "\n"
     ]
    }
   ],
   "source": [
    "# Adjusting decision threshold for Logistic Regression\n",
    "y_proba = log_reg.predict_proba(X_test)[:, 1]\n",
    "y_pred_threshold = (y_proba > 0.3).astype(int)  # Lower threshold to 0.3 for detecting fraud\n",
    "\n",
    "print(\"Logistic Regression Performance (Adjusted Threshold):\")\n",
    "print(classification_report(y_test, y_pred_threshold))"
   ]
  },
  {
   "cell_type": "markdown",
   "id": "d11a3a9a",
   "metadata": {},
   "source": [
    "### Threshold Tuning Interpretation: "
   ]
  },
  {
   "cell_type": "markdown",
   "id": "5dd5789b",
   "metadata": {},
   "source": [
    "The process of threshold tuning involves adjusting the decision threshold for classifying a transaction as fraudulent. By default, many classification models, like Logistic Regression, use a threshold of 0.5, meaning that if the model predicts a probability higher than 0.5, it classifies the transaction as fraudulent.\n",
    "\n",
    "In the example shown, the decision threshold was lowered to 0.3. This change aims to capture more potential fraud cases (higher recall) while balancing the number of false positives (precision).\n",
    "\n",
    "**Key Insights**:\n",
    "1. Precision (Class 1 - Fraud):\n",
    "\n",
    "    - The precision of 0.99 indicates that, of the transactions classified as fraudulent, 99% were correctly identified as fraud. This high precision means the model has maintained a low number of false positives even after threshold tuning.\n",
    "    \n",
    "2. Recall (Class 1 - Fraud):\n",
    "\n",
    "    - A recall of 1.00 signifies that the model captured 100% of all actual fraudulent transactions. By lowering the threshold, the model becomes more sensitive to potential fraud, reducing the chance of missing fraudulent transactions (false negatives).\n",
    "    \n",
    "3. Balanced Accuracy:\n",
    "\n",
    "The overall accuracy and F1-score of 1.00 across both classes highlight that the tuned threshold still maintains a high level of performance.\n",
    "\n",
    "**Impact of Threshold Tuning**:\n",
    "- Reducing False Positives: The lower threshold (0.3) allows the model to catch more fraud cases (increasing recall) while slightly sacrificing precision. However, the results show that precision remains high, meaning the model still avoids flagging too many legitimate transactions as fraudulent.\n",
    "\n",
    "- Maintaining Security: The recall value of 1.00 indicates that the system is highly secure in detecting fraud. False negatives, where actual fraud is missed, are minimized.\n",
    "\n",
    "**Conclusion**:\n",
    "Threshold tuning effectively strikes a balance between reducing false positives and maintaining the accuracy and security of fraud detection. This technique ensures that fraud is detected efficiently while minimizing disruptions for legitimate customers, improving both security and user experience."
   ]
  },
  {
   "cell_type": "markdown",
   "id": "6aba573a",
   "metadata": {},
   "source": [
    "## Additional Data and Techniques for Improved Detection"
   ]
  },
  {
   "cell_type": "markdown",
   "id": "9b30e9e5",
   "metadata": {},
   "source": [
    "- Discuss potential addtional data or advanced techniques that could improve fraud detection."
   ]
  },
  {
   "cell_type": "markdown",
   "id": "f0260034",
   "metadata": {},
   "source": [
    "### Enhancing Fraud Detection with Additional Data and Techniques:\n",
    "To further improve the accuracy and speed of fraud detection, incorporating additional data and advanced techniques can be highly beneficial:\n",
    "\n",
    "1. **External Data:** Integrating data such as user device IDs, transaction velocity, and IP addresses could provide more context for detecting anomalies.\n",
    "2. **Real-Time Analytics:** Leveraging real-time analytics to detect fraud as transactions occur would improve response times and security.\n",
    "3. **Deep Learning and Ensemble Methods:** More complex models like neural networks and ensemble methods such as stacking and boosting can be explored to capture non-linear relationships in the data.\n",
    "\n",
    "These enhancements can increase the robustness of fraud detection systems while maintaining a balance between security and user experience.\n"
   ]
  },
  {
   "cell_type": "markdown",
   "id": "d3560ef8",
   "metadata": {},
   "source": [
    "## Balancing Security and User Experience"
   ]
  },
  {
   "cell_type": "markdown",
   "id": "a259ac42",
   "metadata": {},
   "source": [
    "- Discuss the trade-offs between false positives, false negatives, and user experience"
   ]
  },
  {
   "cell_type": "markdown",
   "id": "bdadf8c6",
   "metadata": {},
   "source": [
    "### Balancing Security and User Experience:\n",
    "In fraud detection, there is always a trade-off between security and user experience. High false positive rates can frustrate customers by flagging legitimate transactions as fraudulent, while low recall for fraudulent transactions can compromise security.\n",
    "\n",
    "From our analysis, **Logistic Regression** and **Random Forest** struck the best balance, with high recall for fraudulent transactions and reasonable precision, minimizing false positives. On the other hand, **XGBoost** and **Neural Networks** showed signs of overfitting, which would need further validation before they could be recommended.\n",
    "\n",
    "In conclusion, fraud detection systems should aim to optimize for both security and user experience by fine-tuning model thresholds and incorporating real-time analytics and external data to improve accuracy."
   ]
  },
  {
   "cell_type": "markdown",
   "id": "d41f8a93",
   "metadata": {},
   "source": [
    "## Model Performance Summary"
   ]
  },
  {
   "cell_type": "markdown",
   "id": "30b4acb4",
   "metadata": {},
   "source": [
    "- Summarize the performance of each model and provide a recommendation based on cross-validation results."
   ]
  },
  {
   "cell_type": "markdown",
   "id": "7c763f7b",
   "metadata": {},
   "source": [
    "### Performance Summary Table:"
   ]
  },
  {
   "cell_type": "markdown",
   "id": "8323a9fd",
   "metadata": {},
   "source": [
    "| Model            | Precision (Class 1) | Recall (Class 1) | F1-Score (Class 1) | CV Accuracy | Overfitting Concerns |\n",
    "|------------------|---------------------|------------------|--------------------|-------------|----------------------|\n",
    "| Logistic Regression | 1.00               | 1.00             | 1.00               | 99.39%      | None                 |\n",
    "| Random Forest       | 0.98               | 0.97             | 0.98               | 98.17%      | None                 |\n",
    "| XGBoost             | 1.00               | 1.00             | 1.00               | 99.84%      | Possible             |\n",
    "| Neural Network      | 1.00               | 1.00             | 1.00               | 99.86%      | Possible             |\n"
   ]
  },
  {
   "cell_type": "markdown",
   "id": "b52689a5",
   "metadata": {},
   "source": [
    "### Model Performance Summary and Recommendation:\n",
    "In summary, each model performed well, but the following conclusions can be drawn:\n",
    "\n",
    "- **Logistic Regression:** High precision and recall, excellent balance, with no signs of overfitting. Suitable for deployment.\n",
    "- **Random Forest:** Strong overall performance, slightly lower accuracy but balanced recall for fraudulent transactions.\n",
    "- **XGBoost and Neural Networks:** Showed perfect metrics, but cross-validation raised concerns about overfitting. Further validation is needed before recommending these models.\n",
    "\n",
    "**Recommendation:** Based on cross-validation and model performance, **Logistic Regression** and **Random Forest** are the best candidates for deployment, offering high accuracy without overfitting."
   ]
  }
 ],
 "metadata": {
  "kernelspec": {
   "display_name": "Python 3 (ipykernel)",
   "language": "python",
   "name": "python3"
  },
  "language_info": {
   "codemirror_mode": {
    "name": "ipython",
    "version": 3
   },
   "file_extension": ".py",
   "mimetype": "text/x-python",
   "name": "python",
   "nbconvert_exporter": "python",
   "pygments_lexer": "ipython3",
   "version": "3.11.4"
  }
 },
 "nbformat": 4,
 "nbformat_minor": 5
}
